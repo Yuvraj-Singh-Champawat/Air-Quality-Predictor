{
 "cells": [
  {
   "cell_type": "code",
   "execution_count": 95,
   "metadata": {},
   "outputs": [],
   "source": [
    "import numpy as np\n",
    "import pandas as pd\n",
    "import matplotlib.pyplot as plt\n",
    "import seaborn as sns\n",
    "%matplotlib inline"
   ]
  },
  {
   "cell_type": "code",
   "execution_count": 96,
   "metadata": {},
   "outputs": [],
   "source": [
    "df = pd.read_excel('new_AirQualityUCI_changed.xlsx', sheet_name = 'AirQualityUCI')"
   ]
  },
  {
   "cell_type": "code",
   "execution_count": 97,
   "metadata": {},
   "outputs": [
    {
     "data": {
      "text/html": [
       "<div>\n",
       "<style scoped>\n",
       "    .dataframe tbody tr th:only-of-type {\n",
       "        vertical-align: middle;\n",
       "    }\n",
       "\n",
       "    .dataframe tbody tr th {\n",
       "        vertical-align: top;\n",
       "    }\n",
       "\n",
       "    .dataframe thead th {\n",
       "        text-align: right;\n",
       "    }\n",
       "</style>\n",
       "<table border=\"1\" class=\"dataframe\">\n",
       "  <thead>\n",
       "    <tr style=\"text-align: right;\">\n",
       "      <th></th>\n",
       "      <th>Time</th>\n",
       "      <th>CO(GT)</th>\n",
       "      <th>PT08.S1(CO)</th>\n",
       "      <th>NMHC(GT)</th>\n",
       "      <th>C6H6(GT)</th>\n",
       "      <th>PT08.S2(NMHC)</th>\n",
       "      <th>NOx(GT)</th>\n",
       "      <th>PT08.S3(NOx)</th>\n",
       "      <th>NO2(GT)</th>\n",
       "      <th>PT08.S4(NO2)</th>\n",
       "      <th>PT08.S5(O3)</th>\n",
       "      <th>T</th>\n",
       "      <th>RH</th>\n",
       "      <th>AH</th>\n",
       "    </tr>\n",
       "  </thead>\n",
       "  <tbody>\n",
       "    <tr>\n",
       "      <th>0</th>\n",
       "      <td>1080</td>\n",
       "      <td>2.6</td>\n",
       "      <td>1360.00</td>\n",
       "      <td>150</td>\n",
       "      <td>11.881723</td>\n",
       "      <td>1045.50</td>\n",
       "      <td>166.0</td>\n",
       "      <td>1056.25</td>\n",
       "      <td>113.0</td>\n",
       "      <td>1692.00</td>\n",
       "      <td>1267.50</td>\n",
       "      <td>13.60</td>\n",
       "      <td>48.875001</td>\n",
       "      <td>0.757754</td>\n",
       "    </tr>\n",
       "    <tr>\n",
       "      <th>1</th>\n",
       "      <td>1140</td>\n",
       "      <td>2.0</td>\n",
       "      <td>1292.25</td>\n",
       "      <td>112</td>\n",
       "      <td>9.397165</td>\n",
       "      <td>954.75</td>\n",
       "      <td>103.0</td>\n",
       "      <td>1173.75</td>\n",
       "      <td>92.0</td>\n",
       "      <td>1558.75</td>\n",
       "      <td>972.25</td>\n",
       "      <td>13.30</td>\n",
       "      <td>47.700000</td>\n",
       "      <td>0.725487</td>\n",
       "    </tr>\n",
       "    <tr>\n",
       "      <th>2</th>\n",
       "      <td>1200</td>\n",
       "      <td>2.2</td>\n",
       "      <td>1402.00</td>\n",
       "      <td>88</td>\n",
       "      <td>8.997817</td>\n",
       "      <td>939.25</td>\n",
       "      <td>131.0</td>\n",
       "      <td>1140.00</td>\n",
       "      <td>114.0</td>\n",
       "      <td>1554.50</td>\n",
       "      <td>1074.00</td>\n",
       "      <td>11.90</td>\n",
       "      <td>53.975000</td>\n",
       "      <td>0.750239</td>\n",
       "    </tr>\n",
       "    <tr>\n",
       "      <th>3</th>\n",
       "      <td>1260</td>\n",
       "      <td>2.2</td>\n",
       "      <td>1375.50</td>\n",
       "      <td>80</td>\n",
       "      <td>9.228796</td>\n",
       "      <td>948.25</td>\n",
       "      <td>172.0</td>\n",
       "      <td>1092.00</td>\n",
       "      <td>122.0</td>\n",
       "      <td>1583.75</td>\n",
       "      <td>1203.25</td>\n",
       "      <td>11.00</td>\n",
       "      <td>60.000000</td>\n",
       "      <td>0.786713</td>\n",
       "    </tr>\n",
       "    <tr>\n",
       "      <th>4</th>\n",
       "      <td>1320</td>\n",
       "      <td>1.6</td>\n",
       "      <td>1272.25</td>\n",
       "      <td>51</td>\n",
       "      <td>6.518224</td>\n",
       "      <td>835.50</td>\n",
       "      <td>131.0</td>\n",
       "      <td>1205.00</td>\n",
       "      <td>116.0</td>\n",
       "      <td>1490.00</td>\n",
       "      <td>1110.00</td>\n",
       "      <td>11.15</td>\n",
       "      <td>59.575001</td>\n",
       "      <td>0.788794</td>\n",
       "    </tr>\n",
       "  </tbody>\n",
       "</table>\n",
       "</div>"
      ],
      "text/plain": [
       "   Time  CO(GT)  PT08.S1(CO)  NMHC(GT)   C6H6(GT)  PT08.S2(NMHC)  NOx(GT)  \\\n",
       "0  1080     2.6      1360.00       150  11.881723        1045.50    166.0   \n",
       "1  1140     2.0      1292.25       112   9.397165         954.75    103.0   \n",
       "2  1200     2.2      1402.00        88   8.997817         939.25    131.0   \n",
       "3  1260     2.2      1375.50        80   9.228796         948.25    172.0   \n",
       "4  1320     1.6      1272.25        51   6.518224         835.50    131.0   \n",
       "\n",
       "   PT08.S3(NOx)  NO2(GT)  PT08.S4(NO2)  PT08.S5(O3)      T         RH  \\\n",
       "0       1056.25    113.0       1692.00      1267.50  13.60  48.875001   \n",
       "1       1173.75     92.0       1558.75       972.25  13.30  47.700000   \n",
       "2       1140.00    114.0       1554.50      1074.00  11.90  53.975000   \n",
       "3       1092.00    122.0       1583.75      1203.25  11.00  60.000000   \n",
       "4       1205.00    116.0       1490.00      1110.00  11.15  59.575001   \n",
       "\n",
       "         AH  \n",
       "0  0.757754  \n",
       "1  0.725487  \n",
       "2  0.750239  \n",
       "3  0.786713  \n",
       "4  0.788794  "
      ]
     },
     "execution_count": 97,
     "metadata": {},
     "output_type": "execute_result"
    }
   ],
   "source": [
    "df.head(5)"
   ]
  },
  {
   "cell_type": "code",
   "execution_count": 98,
   "metadata": {},
   "outputs": [
    {
     "name": "stdout",
     "output_type": "stream",
     "text": [
      "<class 'pandas.core.frame.DataFrame'>\n",
      "RangeIndex: 9357 entries, 0 to 9356\n",
      "Data columns (total 14 columns):\n",
      "Time             9357 non-null int64\n",
      "CO(GT)           9357 non-null float64\n",
      "PT08.S1(CO)      9357 non-null float64\n",
      "NMHC(GT)         9357 non-null int64\n",
      "C6H6(GT)         9357 non-null float64\n",
      "PT08.S2(NMHC)    9357 non-null float64\n",
      "NOx(GT)          9357 non-null float64\n",
      "PT08.S3(NOx)     9357 non-null float64\n",
      "NO2(GT)          9357 non-null float64\n",
      "PT08.S4(NO2)     9357 non-null float64\n",
      "PT08.S5(O3)      9357 non-null float64\n",
      "T                9357 non-null float64\n",
      "RH               9357 non-null float64\n",
      "AH               9357 non-null float64\n",
      "dtypes: float64(12), int64(2)\n",
      "memory usage: 1023.5 KB\n"
     ]
    }
   ],
   "source": [
    "df.info()"
   ]
  },
  {
   "cell_type": "code",
   "execution_count": 99,
   "metadata": {},
   "outputs": [
    {
     "data": {
      "text/plain": [
       "(9357, 14)"
      ]
     },
     "execution_count": 99,
     "metadata": {},
     "output_type": "execute_result"
    }
   ],
   "source": [
    "df.shape"
   ]
  },
  {
   "cell_type": "code",
   "execution_count": 100,
   "metadata": {},
   "outputs": [
    {
     "data": {
      "text/html": [
       "<div>\n",
       "<style scoped>\n",
       "    .dataframe tbody tr th:only-of-type {\n",
       "        vertical-align: middle;\n",
       "    }\n",
       "\n",
       "    .dataframe tbody tr th {\n",
       "        vertical-align: top;\n",
       "    }\n",
       "\n",
       "    .dataframe thead th {\n",
       "        text-align: right;\n",
       "    }\n",
       "</style>\n",
       "<table border=\"1\" class=\"dataframe\">\n",
       "  <thead>\n",
       "    <tr style=\"text-align: right;\">\n",
       "      <th></th>\n",
       "      <th>Time</th>\n",
       "      <th>CO(GT)</th>\n",
       "      <th>PT08.S1(CO)</th>\n",
       "      <th>NMHC(GT)</th>\n",
       "      <th>C6H6(GT)</th>\n",
       "      <th>PT08.S2(NMHC)</th>\n",
       "      <th>NOx(GT)</th>\n",
       "      <th>PT08.S3(NOx)</th>\n",
       "      <th>NO2(GT)</th>\n",
       "      <th>PT08.S4(NO2)</th>\n",
       "      <th>PT08.S5(O3)</th>\n",
       "      <th>T</th>\n",
       "      <th>RH</th>\n",
       "      <th>AH</th>\n",
       "    </tr>\n",
       "  </thead>\n",
       "  <tbody>\n",
       "    <tr>\n",
       "      <th>count</th>\n",
       "      <td>9357.000000</td>\n",
       "      <td>9357.000000</td>\n",
       "      <td>9357.000000</td>\n",
       "      <td>9357.000000</td>\n",
       "      <td>9357.000000</td>\n",
       "      <td>9357.000000</td>\n",
       "      <td>9357.000000</td>\n",
       "      <td>9357.000000</td>\n",
       "      <td>9357.000000</td>\n",
       "      <td>9357.000000</td>\n",
       "      <td>9357.000000</td>\n",
       "      <td>9357.00000</td>\n",
       "      <td>9357.000000</td>\n",
       "      <td>9357.000000</td>\n",
       "    </tr>\n",
       "    <tr>\n",
       "      <th>mean</th>\n",
       "      <td>689.871754</td>\n",
       "      <td>1.765545</td>\n",
       "      <td>1056.692672</td>\n",
       "      <td>21.373731</td>\n",
       "      <td>9.688596</td>\n",
       "      <td>902.298983</td>\n",
       "      <td>203.636796</td>\n",
       "      <td>802.695353</td>\n",
       "      <td>93.232617</td>\n",
       "      <td>1399.186287</td>\n",
       "      <td>982.774554</td>\n",
       "      <td>17.59962</td>\n",
       "      <td>47.306631</td>\n",
       "      <td>0.985416</td>\n",
       "    </tr>\n",
       "    <tr>\n",
       "      <th>std</th>\n",
       "      <td>415.412009</td>\n",
       "      <td>1.554264</td>\n",
       "      <td>301.232260</td>\n",
       "      <td>91.103489</td>\n",
       "      <td>7.559609</td>\n",
       "      <td>318.681183</td>\n",
       "      <td>214.984126</td>\n",
       "      <td>299.341439</td>\n",
       "      <td>61.468588</td>\n",
       "      <td>441.442059</td>\n",
       "      <td>438.060087</td>\n",
       "      <td>9.35832</td>\n",
       "      <td>19.473998</td>\n",
       "      <td>0.442966</td>\n",
       "    </tr>\n",
       "    <tr>\n",
       "      <th>min</th>\n",
       "      <td>0.000000</td>\n",
       "      <td>0.000000</td>\n",
       "      <td>0.000000</td>\n",
       "      <td>0.000000</td>\n",
       "      <td>0.000000</td>\n",
       "      <td>0.000000</td>\n",
       "      <td>0.000000</td>\n",
       "      <td>0.000000</td>\n",
       "      <td>0.000000</td>\n",
       "      <td>0.000000</td>\n",
       "      <td>0.000000</td>\n",
       "      <td>-1.90000</td>\n",
       "      <td>0.000000</td>\n",
       "      <td>0.000000</td>\n",
       "    </tr>\n",
       "    <tr>\n",
       "      <th>25%</th>\n",
       "      <td>300.000000</td>\n",
       "      <td>0.600000</td>\n",
       "      <td>921.000000</td>\n",
       "      <td>0.000000</td>\n",
       "      <td>4.004958</td>\n",
       "      <td>711.000000</td>\n",
       "      <td>50.000000</td>\n",
       "      <td>637.000000</td>\n",
       "      <td>53.000000</td>\n",
       "      <td>1184.750000</td>\n",
       "      <td>699.750000</td>\n",
       "      <td>10.95000</td>\n",
       "      <td>34.050000</td>\n",
       "      <td>0.692275</td>\n",
       "    </tr>\n",
       "    <tr>\n",
       "      <th>50%</th>\n",
       "      <td>660.000000</td>\n",
       "      <td>1.500000</td>\n",
       "      <td>1052.500000</td>\n",
       "      <td>0.000000</td>\n",
       "      <td>7.886653</td>\n",
       "      <td>894.500000</td>\n",
       "      <td>141.000000</td>\n",
       "      <td>794.250000</td>\n",
       "      <td>96.000000</td>\n",
       "      <td>1445.500000</td>\n",
       "      <td>942.000000</td>\n",
       "      <td>17.20000</td>\n",
       "      <td>48.550000</td>\n",
       "      <td>0.976823</td>\n",
       "    </tr>\n",
       "    <tr>\n",
       "      <th>75%</th>\n",
       "      <td>1080.000000</td>\n",
       "      <td>2.600000</td>\n",
       "      <td>1221.250000</td>\n",
       "      <td>0.000000</td>\n",
       "      <td>13.636091</td>\n",
       "      <td>1104.750000</td>\n",
       "      <td>284.200000</td>\n",
       "      <td>960.250000</td>\n",
       "      <td>133.000000</td>\n",
       "      <td>1662.000000</td>\n",
       "      <td>1255.250000</td>\n",
       "      <td>24.07500</td>\n",
       "      <td>61.875000</td>\n",
       "      <td>1.296223</td>\n",
       "    </tr>\n",
       "    <tr>\n",
       "      <th>max</th>\n",
       "      <td>1380.000000</td>\n",
       "      <td>11.900000</td>\n",
       "      <td>2039.750000</td>\n",
       "      <td>1189.000000</td>\n",
       "      <td>63.741476</td>\n",
       "      <td>2214.000000</td>\n",
       "      <td>1479.000000</td>\n",
       "      <td>2682.750000</td>\n",
       "      <td>339.700000</td>\n",
       "      <td>2775.000000</td>\n",
       "      <td>2522.750000</td>\n",
       "      <td>44.60000</td>\n",
       "      <td>88.725000</td>\n",
       "      <td>2.231036</td>\n",
       "    </tr>\n",
       "  </tbody>\n",
       "</table>\n",
       "</div>"
      ],
      "text/plain": [
       "              Time       CO(GT)  PT08.S1(CO)     NMHC(GT)     C6H6(GT)  \\\n",
       "count  9357.000000  9357.000000  9357.000000  9357.000000  9357.000000   \n",
       "mean    689.871754     1.765545  1056.692672    21.373731     9.688596   \n",
       "std     415.412009     1.554264   301.232260    91.103489     7.559609   \n",
       "min       0.000000     0.000000     0.000000     0.000000     0.000000   \n",
       "25%     300.000000     0.600000   921.000000     0.000000     4.004958   \n",
       "50%     660.000000     1.500000  1052.500000     0.000000     7.886653   \n",
       "75%    1080.000000     2.600000  1221.250000     0.000000    13.636091   \n",
       "max    1380.000000    11.900000  2039.750000  1189.000000    63.741476   \n",
       "\n",
       "       PT08.S2(NMHC)      NOx(GT)  PT08.S3(NOx)      NO2(GT)  PT08.S4(NO2)  \\\n",
       "count    9357.000000  9357.000000   9357.000000  9357.000000   9357.000000   \n",
       "mean      902.298983   203.636796    802.695353    93.232617   1399.186287   \n",
       "std       318.681183   214.984126    299.341439    61.468588    441.442059   \n",
       "min         0.000000     0.000000      0.000000     0.000000      0.000000   \n",
       "25%       711.000000    50.000000    637.000000    53.000000   1184.750000   \n",
       "50%       894.500000   141.000000    794.250000    96.000000   1445.500000   \n",
       "75%      1104.750000   284.200000    960.250000   133.000000   1662.000000   \n",
       "max      2214.000000  1479.000000   2682.750000   339.700000   2775.000000   \n",
       "\n",
       "       PT08.S5(O3)           T           RH           AH  \n",
       "count  9357.000000  9357.00000  9357.000000  9357.000000  \n",
       "mean    982.774554    17.59962    47.306631     0.985416  \n",
       "std     438.060087     9.35832    19.473998     0.442966  \n",
       "min       0.000000    -1.90000     0.000000     0.000000  \n",
       "25%     699.750000    10.95000    34.050000     0.692275  \n",
       "50%     942.000000    17.20000    48.550000     0.976823  \n",
       "75%    1255.250000    24.07500    61.875000     1.296223  \n",
       "max    2522.750000    44.60000    88.725000     2.231036  "
      ]
     },
     "execution_count": 100,
     "metadata": {},
     "output_type": "execute_result"
    }
   ],
   "source": [
    "df.describe()"
   ]
  },
  {
   "cell_type": "code",
   "execution_count": 101,
   "metadata": {},
   "outputs": [
    {
     "name": "stdout",
     "output_type": "stream",
     "text": [
      "Time              390\n",
      "CO(GT)           1683\n",
      "PT08.S1(CO)       366\n",
      "NMHC(GT)         8443\n",
      "C6H6(GT)          366\n",
      "PT08.S2(NMHC)     366\n",
      "NOx(GT)          1639\n",
      "PT08.S3(NOx)      366\n",
      "NO2(GT)          1642\n",
      "PT08.S4(NO2)      366\n",
      "PT08.S5(O3)       366\n",
      "T                 366\n",
      "RH                366\n",
      "AH                366\n",
      "dtype: int64\n"
     ]
    }
   ],
   "source": [
    "# Check for the missing values\n",
    "# According to the dataset website, features that have value = 0 is marked as a missing value\n",
    "\n",
    "print ((df[['Time', 'CO(GT)','PT08.S1(CO)', 'NMHC(GT)','C6H6(GT)','PT08.S2(NMHC)','NOx(GT)','PT08.S3(NOx)',\n",
    "            'NO2(GT)','PT08.S4(NO2)', 'PT08.S5(O3)','T','RH','AH']] == 0).sum())"
   ]
  },
  {
   "cell_type": "code",
   "execution_count": 102,
   "metadata": {},
   "outputs": [
    {
     "data": {
      "text/plain": [
       "<matplotlib.axes._subplots.AxesSubplot at 0x21a632a9358>"
      ]
     },
     "execution_count": 102,
     "metadata": {},
     "output_type": "execute_result"
    },
    {
     "data": {
      "image/png": "[encoded data removed]",
      "text/plain": [
       "<Figure size 432x288 with 1 Axes>"
      ]
     },
     "metadata": {
      "needs_background": "light"
     },
     "output_type": "display_data"
    }
   ],
   "source": [
    "sns.heatmap(df[['Time', 'CO(GT)','PT08.S1(CO)', 'NMHC(GT)','C6H6(GT)','PT08.S2(NMHC)','NOx(GT)','PT08.S3(NOx)',\n",
    "            'NO2(GT)','PT08.S4(NO2)', 'PT08.S5(O3)','T','RH','AH']] == 0, yticklabels = False, cbar = False, cmap = 'viridis')"
   ]
  },
  {
   "cell_type": "code",
   "execution_count": 103,
   "metadata": {},
   "outputs": [
    {
     "data": {
      "text/plain": [
       "<matplotlib.axes._subplots.AxesSubplot at 0x21a6343e898>"
      ]
     },
     "execution_count": 103,
     "metadata": {},
     "output_type": "execute_result"
    },
    {
     "data": {
      "image/png": "[encoded data removed]",
      "text/plain": [
       "<Figure size 720x504 with 1 Axes>"
      ]
     },
     "metadata": {
      "needs_background": "light"
     },
     "output_type": "display_data"
    }
   ],
   "source": [
    "plt.figure(figsize=(10,7))\n",
    "sns.boxplot(x='Time', y='CO(GT)', data = df)"
   ]
  },
  {
   "cell_type": "code",
   "execution_count": 104,
   "metadata": {},
   "outputs": [],
   "source": [
    "def impute_CO (col):\n",
    "    CO = col\n",
    "    if (CO == 0):\n",
    "        return 2\n",
    "    else:\n",
    "        return CO"
   ]
  },
  {
   "cell_type": "code",
   "execution_count": 105,
   "metadata": {},
   "outputs": [],
   "source": [
    "df['CO(GT)'] = df['CO(GT)'].apply(impute_CO)"
   ]
  },
  {
   "cell_type": "code",
   "execution_count": 106,
   "metadata": {},
   "outputs": [
    {
     "data": {
      "text/plain": [
       "<matplotlib.axes._subplots.AxesSubplot at 0x21a63d2cb00>"
      ]
     },
     "execution_count": 106,
     "metadata": {},
     "output_type": "execute_result"
    },
    {
     "data": {
      "image/png": "[encoded data removed]",
      "text/plain": [
       "<Figure size 432x288 with 1 Axes>"
      ]
     },
     "metadata": {
      "needs_background": "light"
     },
     "output_type": "display_data"
    }
   ],
   "source": [
    "sns.heatmap(df[['Time', 'CO(GT)','PT08.S1(CO)', 'NMHC(GT)','C6H6(GT)','PT08.S2(NMHC)','NOx(GT)','PT08.S3(NOx)',\n",
    "            'NO2(GT)','PT08.S4(NO2)', 'PT08.S5(O3)','T','RH','AH']] == 0, yticklabels = False, cbar = False, cmap = 'viridis')"
   ]
  },
  {
   "cell_type": "code",
   "execution_count": 107,
   "metadata": {},
   "outputs": [
    {
     "data": {
      "text/plain": [
       "<matplotlib.axes._subplots.AxesSubplot at 0x21a63d2c5c0>"
      ]
     },
     "execution_count": 107,
     "metadata": {},
     "output_type": "execute_result"
    },
    {
     "data": {
      "image/png": "[encoded data removed]",
      "text/plain": [
       "<Figure size 720x504 with 1 Axes>"
      ]
     },
     "metadata": {
      "needs_background": "light"
     },
     "output_type": "display_data"
    }
   ],
   "source": [
    "plt.figure(figsize=(10,7))\n",
    "sns.boxplot(x='Time', y='NOx(GT)', data = df)"
   ]
  },
  {
   "cell_type": "code",
   "execution_count": 108,
   "metadata": {},
   "outputs": [],
   "source": [
    "def impute_NO (col):\n",
    "    NO = col\n",
    "    if (NO == 0):\n",
    "        return 200\n",
    "    else:\n",
    "        return NO"
   ]
  },
  {
   "cell_type": "code",
   "execution_count": 109,
   "metadata": {},
   "outputs": [],
   "source": [
    "df['NOx(GT)'] = df['NOx(GT)'].apply(impute_NO)"
   ]
  },
  {
   "cell_type": "code",
   "execution_count": 110,
   "metadata": {},
   "outputs": [
    {
     "data": {
      "text/plain": [
       "<matplotlib.axes._subplots.AxesSubplot at 0x21a63be1320>"
      ]
     },
     "execution_count": 110,
     "metadata": {},
     "output_type": "execute_result"
    },
    {
     "data": {
      "image/png": "[encoded data removed]",
      "text/plain": [
       "<Figure size 432x288 with 1 Axes>"
      ]
     },
     "metadata": {
      "needs_background": "light"
     },
     "output_type": "display_data"
    }
   ],
   "source": [
    "sns.heatmap(df[['Time', 'CO(GT)','PT08.S1(CO)', 'NMHC(GT)','C6H6(GT)','PT08.S2(NMHC)','NOx(GT)','PT08.S3(NOx)',\n",
    "            'NO2(GT)','PT08.S4(NO2)', 'PT08.S5(O3)','T','RH','AH']] == 0, yticklabels = False, cbar = False, cmap = 'viridis')"
   ]
  },
  {
   "cell_type": "code",
   "execution_count": 111,
   "metadata": {},
   "outputs": [
    {
     "data": {
      "text/plain": [
       "<matplotlib.axes._subplots.AxesSubplot at 0x21a63733588>"
      ]
     },
     "execution_count": 111,
     "metadata": {},
     "output_type": "execute_result"
    },
    {
     "data": {
      "image/png": "[encoded data removed]",
      "text/plain": [
       "<Figure size 720x504 with 1 Axes>"
      ]
     },
     "metadata": {
      "needs_background": "light"
     },
     "output_type": "display_data"
    }
   ],
   "source": [
    "plt.figure(figsize=(10,7))\n",
    "sns.boxplot(x='Time', y='NO2(GT)', data = df)"
   ]
  },
  {
   "cell_type": "code",
   "execution_count": 112,
   "metadata": {},
   "outputs": [],
   "source": [
    "def impute_NO2 (col):\n",
    "    NO2 = col\n",
    "    if (NO2 == 0):\n",
    "        return 110\n",
    "    else:\n",
    "        return NO2"
   ]
  },
  {
   "cell_type": "code",
   "execution_count": 113,
   "metadata": {},
   "outputs": [],
   "source": [
    "df['NO2(GT)'] = df['NO2(GT)'].apply(impute_NO)"
   ]
  },
  {
   "cell_type": "code",
   "execution_count": 114,
   "metadata": {},
   "outputs": [
    {
     "data": {
      "text/plain": [
       "<matplotlib.axes._subplots.AxesSubplot at 0x21a637d45c0>"
      ]
     },
     "execution_count": 114,
     "metadata": {},
     "output_type": "execute_result"
    },
    {
     "data": {
      "image/png": "[encoded data removed]",
      "text/plain": [
       "<Figure size 432x288 with 1 Axes>"
      ]
     },
     "metadata": {
      "needs_background": "light"
     },
     "output_type": "display_data"
    }
   ],
   "source": [
    "sns.heatmap(df[['Time', 'CO(GT)','PT08.S1(CO)', 'NMHC(GT)','C6H6(GT)','PT08.S2(NMHC)','NOx(GT)','PT08.S3(NOx)',\n",
    "            'NO2(GT)','PT08.S4(NO2)', 'PT08.S5(O3)','T','RH','AH']] == 0, yticklabels = False, cbar = False, cmap = 'viridis')"
   ]
  },
  {
   "cell_type": "code",
   "execution_count": 115,
   "metadata": {},
   "outputs": [],
   "source": [
    "# Drop bad features, NMHC(GT) has more than 8k of missing value\n",
    "\n",
    "df.drop(['NMHC(GT)'], axis=1, inplace=True)"
   ]
  },
  {
   "cell_type": "code",
   "execution_count": 116,
   "metadata": {},
   "outputs": [
    {
     "data": {
      "text/plain": [
       "<matplotlib.axes._subplots.AxesSubplot at 0x21a6389ecf8>"
      ]
     },
     "execution_count": 116,
     "metadata": {},
     "output_type": "execute_result"
    },
    {
     "data": {
      "image/png": "[encoded data removed]",
      "text/plain": [
       "<Figure size 432x288 with 1 Axes>"
      ]
     },
     "metadata": {
      "needs_background": "light"
     },
     "output_type": "display_data"
    }
   ],
   "source": [
    "sns.heatmap(df[['Time', 'CO(GT)','PT08.S1(CO)', 'C6H6(GT)','PT08.S2(NMHC)','NOx(GT)','PT08.S3(NOx)',\n",
    "            'NO2(GT)','PT08.S4(NO2)', 'PT08.S5(O3)','T','RH','AH']] == 0, yticklabels = False, cbar = False, cmap = 'viridis')"
   ]
  },
  {
   "cell_type": "code",
   "execution_count": 117,
   "metadata": {},
   "outputs": [],
   "source": [
    "df = df[df.Time != 0]"
   ]
  },
  {
   "cell_type": "code",
   "execution_count": 118,
   "metadata": {},
   "outputs": [
    {
     "data": {
      "text/html": [
       "<div>\n",
       "<style scoped>\n",
       "    .dataframe tbody tr th:only-of-type {\n",
       "        vertical-align: middle;\n",
       "    }\n",
       "\n",
       "    .dataframe tbody tr th {\n",
       "        vertical-align: top;\n",
       "    }\n",
       "\n",
       "    .dataframe thead th {\n",
       "        text-align: right;\n",
       "    }\n",
       "</style>\n",
       "<table border=\"1\" class=\"dataframe\">\n",
       "  <thead>\n",
       "    <tr style=\"text-align: right;\">\n",
       "      <th></th>\n",
       "      <th>Time</th>\n",
       "      <th>CO(GT)</th>\n",
       "      <th>PT08.S1(CO)</th>\n",
       "      <th>C6H6(GT)</th>\n",
       "      <th>PT08.S2(NMHC)</th>\n",
       "      <th>NOx(GT)</th>\n",
       "      <th>PT08.S3(NOx)</th>\n",
       "      <th>NO2(GT)</th>\n",
       "      <th>PT08.S4(NO2)</th>\n",
       "      <th>PT08.S5(O3)</th>\n",
       "      <th>T</th>\n",
       "      <th>RH</th>\n",
       "      <th>AH</th>\n",
       "    </tr>\n",
       "  </thead>\n",
       "  <tbody>\n",
       "    <tr>\n",
       "      <th>count</th>\n",
       "      <td>8967.000000</td>\n",
       "      <td>8967.000000</td>\n",
       "      <td>8967.000000</td>\n",
       "      <td>8967.000000</td>\n",
       "      <td>8967.000000</td>\n",
       "      <td>8967.000000</td>\n",
       "      <td>8967.000000</td>\n",
       "      <td>8967.000000</td>\n",
       "      <td>8967.000000</td>\n",
       "      <td>8967.000000</td>\n",
       "      <td>8967.000000</td>\n",
       "      <td>8967.000000</td>\n",
       "      <td>8967.000000</td>\n",
       "    </tr>\n",
       "    <tr>\n",
       "      <th>mean</th>\n",
       "      <td>719.876213</td>\n",
       "      <td>2.138575</td>\n",
       "      <td>1058.473746</td>\n",
       "      <td>9.791092</td>\n",
       "      <td>905.483607</td>\n",
       "      <td>240.710862</td>\n",
       "      <td>802.407884</td>\n",
       "      <td>128.836110</td>\n",
       "      <td>1402.489759</td>\n",
       "      <td>984.076401</td>\n",
       "      <td>17.696920</td>\n",
       "      <td>47.064913</td>\n",
       "      <td>0.984569</td>\n",
       "    </tr>\n",
       "    <tr>\n",
       "      <th>std</th>\n",
       "      <td>398.084788</td>\n",
       "      <td>1.333456</td>\n",
       "      <td>302.424905</td>\n",
       "      <td>7.657138</td>\n",
       "      <td>321.304740</td>\n",
       "      <td>196.155907</td>\n",
       "      <td>300.811715</td>\n",
       "      <td>55.231554</td>\n",
       "      <td>442.803444</td>\n",
       "      <td>440.813041</td>\n",
       "      <td>9.411571</td>\n",
       "      <td>19.505645</td>\n",
       "      <td>0.442181</td>\n",
       "    </tr>\n",
       "    <tr>\n",
       "      <th>min</th>\n",
       "      <td>60.000000</td>\n",
       "      <td>0.100000</td>\n",
       "      <td>0.000000</td>\n",
       "      <td>0.000000</td>\n",
       "      <td>0.000000</td>\n",
       "      <td>2.000000</td>\n",
       "      <td>0.000000</td>\n",
       "      <td>3.000000</td>\n",
       "      <td>0.000000</td>\n",
       "      <td>0.000000</td>\n",
       "      <td>-1.900000</td>\n",
       "      <td>0.000000</td>\n",
       "      <td>0.000000</td>\n",
       "    </tr>\n",
       "    <tr>\n",
       "      <th>25%</th>\n",
       "      <td>360.000000</td>\n",
       "      <td>1.200000</td>\n",
       "      <td>919.250000</td>\n",
       "      <td>3.962126</td>\n",
       "      <td>708.625000</td>\n",
       "      <td>113.000000</td>\n",
       "      <td>633.250000</td>\n",
       "      <td>86.000000</td>\n",
       "      <td>1186.000000</td>\n",
       "      <td>696.000000</td>\n",
       "      <td>10.987500</td>\n",
       "      <td>33.675000</td>\n",
       "      <td>0.690364</td>\n",
       "    </tr>\n",
       "    <tr>\n",
       "      <th>50%</th>\n",
       "      <td>720.000000</td>\n",
       "      <td>2.000000</td>\n",
       "      <td>1053.250000</td>\n",
       "      <td>7.977365</td>\n",
       "      <td>898.250000</td>\n",
       "      <td>200.000000</td>\n",
       "      <td>793.250000</td>\n",
       "      <td>122.000000</td>\n",
       "      <td>1447.250000</td>\n",
       "      <td>940.250000</td>\n",
       "      <td>17.300000</td>\n",
       "      <td>48.199999</td>\n",
       "      <td>0.975971</td>\n",
       "    </tr>\n",
       "    <tr>\n",
       "      <th>75%</th>\n",
       "      <td>1080.000000</td>\n",
       "      <td>2.600000</td>\n",
       "      <td>1226.125000</td>\n",
       "      <td>13.892342</td>\n",
       "      <td>1113.125000</td>\n",
       "      <td>288.000000</td>\n",
       "      <td>961.500000</td>\n",
       "      <td>183.000000</td>\n",
       "      <td>1667.625000</td>\n",
       "      <td>1263.000000</td>\n",
       "      <td>24.225000</td>\n",
       "      <td>61.700000</td>\n",
       "      <td>1.293720</td>\n",
       "    </tr>\n",
       "    <tr>\n",
       "      <th>max</th>\n",
       "      <td>1380.000000</td>\n",
       "      <td>11.900000</td>\n",
       "      <td>2039.750000</td>\n",
       "      <td>63.741476</td>\n",
       "      <td>2214.000000</td>\n",
       "      <td>1479.000000</td>\n",
       "      <td>2682.750000</td>\n",
       "      <td>339.700000</td>\n",
       "      <td>2775.000000</td>\n",
       "      <td>2522.750000</td>\n",
       "      <td>44.600000</td>\n",
       "      <td>88.725000</td>\n",
       "      <td>2.231036</td>\n",
       "    </tr>\n",
       "  </tbody>\n",
       "</table>\n",
       "</div>"
      ],
      "text/plain": [
       "              Time       CO(GT)  PT08.S1(CO)     C6H6(GT)  PT08.S2(NMHC)  \\\n",
       "count  8967.000000  8967.000000  8967.000000  8967.000000    8967.000000   \n",
       "mean    719.876213     2.138575  1058.473746     9.791092     905.483607   \n",
       "std     398.084788     1.333456   302.424905     7.657138     321.304740   \n",
       "min      60.000000     0.100000     0.000000     0.000000       0.000000   \n",
       "25%     360.000000     1.200000   919.250000     3.962126     708.625000   \n",
       "50%     720.000000     2.000000  1053.250000     7.977365     898.250000   \n",
       "75%    1080.000000     2.600000  1226.125000    13.892342    1113.125000   \n",
       "max    1380.000000    11.900000  2039.750000    63.741476    2214.000000   \n",
       "\n",
       "           NOx(GT)  PT08.S3(NOx)      NO2(GT)  PT08.S4(NO2)  PT08.S5(O3)  \\\n",
       "count  8967.000000   8967.000000  8967.000000   8967.000000  8967.000000   \n",
       "mean    240.710862    802.407884   128.836110   1402.489759   984.076401   \n",
       "std     196.155907    300.811715    55.231554    442.803444   440.813041   \n",
       "min       2.000000      0.000000     3.000000      0.000000     0.000000   \n",
       "25%     113.000000    633.250000    86.000000   1186.000000   696.000000   \n",
       "50%     200.000000    793.250000   122.000000   1447.250000   940.250000   \n",
       "75%     288.000000    961.500000   183.000000   1667.625000  1263.000000   \n",
       "max    1479.000000   2682.750000   339.700000   2775.000000  2522.750000   \n",
       "\n",
       "                 T           RH           AH  \n",
       "count  8967.000000  8967.000000  8967.000000  \n",
       "mean     17.696920    47.064913     0.984569  \n",
       "std       9.411571    19.505645     0.442181  \n",
       "min      -1.900000     0.000000     0.000000  \n",
       "25%      10.987500    33.675000     0.690364  \n",
       "50%      17.300000    48.199999     0.975971  \n",
       "75%      24.225000    61.700000     1.293720  \n",
       "max      44.600000    88.725000     2.231036  "
      ]
     },
     "execution_count": 118,
     "metadata": {},
     "output_type": "execute_result"
    }
   ],
   "source": [
    "df.describe()"
   ]
  },
  {
   "cell_type": "code",
   "execution_count": 119,
   "metadata": {},
   "outputs": [
    {
     "data": {
      "text/plain": [
       "(8967, 13)"
      ]
     },
     "execution_count": 119,
     "metadata": {},
     "output_type": "execute_result"
    }
   ],
   "source": [
    "df.shape"
   ]
  },
  {
   "cell_type": "code",
   "execution_count": 120,
   "metadata": {},
   "outputs": [
    {
     "data": {
      "text/plain": [
       "<matplotlib.axes._subplots.AxesSubplot at 0x21a63959d30>"
      ]
     },
     "execution_count": 120,
     "metadata": {},
     "output_type": "execute_result"
    },
    {
     "data": {
      "image/png": "[encoded data removed]",
      "text/plain": [
       "<Figure size 432x288 with 1 Axes>"
      ]
     },
     "metadata": {
      "needs_background": "light"
     },
     "output_type": "display_data"
    }
   ],
   "source": [
    "sns.heatmap(df[['Time', 'CO(GT)','PT08.S1(CO)', 'C6H6(GT)','PT08.S2(NMHC)','NOx(GT)','PT08.S3(NOx)',\n",
    "            'NO2(GT)','PT08.S4(NO2)', 'PT08.S5(O3)','T','RH','AH']] == 0, yticklabels = False, cbar = False, cmap = 'viridis')"
   ]
  },
  {
   "cell_type": "code",
   "execution_count": 121,
   "metadata": {},
   "outputs": [],
   "source": [
    "df = df[df.RH != 0]"
   ]
  },
  {
   "cell_type": "code",
   "execution_count": 122,
   "metadata": {},
   "outputs": [
    {
     "data": {
      "text/plain": [
       "(8619, 13)"
      ]
     },
     "execution_count": 122,
     "metadata": {},
     "output_type": "execute_result"
    }
   ],
   "source": [
    "df.shape"
   ]
  },
  {
   "cell_type": "code",
   "execution_count": 123,
   "metadata": {},
   "outputs": [
    {
     "data": {
      "text/plain": [
       "<matplotlib.axes._subplots.AxesSubplot at 0x21a639f4be0>"
      ]
     },
     "execution_count": 123,
     "metadata": {},
     "output_type": "execute_result"
    },
    {
     "data": {
      "image/png": "[encoded data removed]",
      "text/plain": [
       "<Figure size 432x288 with 1 Axes>"
      ]
     },
     "metadata": {
      "needs_background": "light"
     },
     "output_type": "display_data"
    }
   ],
   "source": [
    "sns.heatmap(df[['Time', 'CO(GT)','PT08.S1(CO)', 'C6H6(GT)','PT08.S2(NMHC)','NOx(GT)','PT08.S3(NOx)',\n",
    "            'NO2(GT)','PT08.S4(NO2)', 'PT08.S5(O3)','T','RH','AH']] == 0, yticklabels = False, cbar = False, cmap = 'viridis')"
   ]
  },
  {
   "cell_type": "code",
   "execution_count": 124,
   "metadata": {},
   "outputs": [
    {
     "data": {
      "text/html": [
       "<div>\n",
       "<style scoped>\n",
       "    .dataframe tbody tr th:only-of-type {\n",
       "        vertical-align: middle;\n",
       "    }\n",
       "\n",
       "    .dataframe tbody tr th {\n",
       "        vertical-align: top;\n",
       "    }\n",
       "\n",
       "    .dataframe thead th {\n",
       "        text-align: right;\n",
       "    }\n",
       "</style>\n",
       "<table border=\"1\" class=\"dataframe\">\n",
       "  <thead>\n",
       "    <tr style=\"text-align: right;\">\n",
       "      <th></th>\n",
       "      <th>Time</th>\n",
       "      <th>CO(GT)</th>\n",
       "      <th>PT08.S1(CO)</th>\n",
       "      <th>C6H6(GT)</th>\n",
       "      <th>PT08.S2(NMHC)</th>\n",
       "      <th>NOx(GT)</th>\n",
       "      <th>PT08.S3(NOx)</th>\n",
       "      <th>NO2(GT)</th>\n",
       "      <th>PT08.S4(NO2)</th>\n",
       "      <th>PT08.S5(O3)</th>\n",
       "      <th>T</th>\n",
       "      <th>RH</th>\n",
       "      <th>AH</th>\n",
       "    </tr>\n",
       "  </thead>\n",
       "  <tbody>\n",
       "    <tr>\n",
       "      <th>count</th>\n",
       "      <td>8619.000000</td>\n",
       "      <td>8619.000000</td>\n",
       "      <td>8619.000000</td>\n",
       "      <td>8619.000000</td>\n",
       "      <td>8619.000000</td>\n",
       "      <td>8619.000000</td>\n",
       "      <td>8619.000000</td>\n",
       "      <td>8619.000000</td>\n",
       "      <td>8619.000000</td>\n",
       "      <td>8619.000000</td>\n",
       "      <td>8619.00000</td>\n",
       "      <td>8619.000000</td>\n",
       "      <td>8619.000000</td>\n",
       "    </tr>\n",
       "    <tr>\n",
       "      <th>mean</th>\n",
       "      <td>718.459682</td>\n",
       "      <td>2.118842</td>\n",
       "      <td>1101.210591</td>\n",
       "      <td>10.186417</td>\n",
       "      <td>942.043334</td>\n",
       "      <td>236.647743</td>\n",
       "      <td>834.805836</td>\n",
       "      <td>128.244077</td>\n",
       "      <td>1459.116564</td>\n",
       "      <td>1023.809384</td>\n",
       "      <td>18.41145</td>\n",
       "      <td>48.965202</td>\n",
       "      <td>1.024322</td>\n",
       "    </tr>\n",
       "    <tr>\n",
       "      <th>std</th>\n",
       "      <td>397.673439</td>\n",
       "      <td>1.314770</td>\n",
       "      <td>219.285975</td>\n",
       "      <td>7.547976</td>\n",
       "      <td>270.112297</td>\n",
       "      <td>189.595819</td>\n",
       "      <td>259.022195</td>\n",
       "      <td>54.945612</td>\n",
       "      <td>348.364485</td>\n",
       "      <td>401.844519</td>\n",
       "      <td>8.88805</td>\n",
       "      <td>17.400430</td>\n",
       "      <td>0.403355</td>\n",
       "    </tr>\n",
       "    <tr>\n",
       "      <th>min</th>\n",
       "      <td>60.000000</td>\n",
       "      <td>0.100000</td>\n",
       "      <td>647.250000</td>\n",
       "      <td>0.149048</td>\n",
       "      <td>383.250000</td>\n",
       "      <td>2.000000</td>\n",
       "      <td>322.000000</td>\n",
       "      <td>3.000000</td>\n",
       "      <td>551.000000</td>\n",
       "      <td>221.000000</td>\n",
       "      <td>-1.90000</td>\n",
       "      <td>9.175000</td>\n",
       "      <td>0.184679</td>\n",
       "    </tr>\n",
       "    <tr>\n",
       "      <th>25%</th>\n",
       "      <td>360.000000</td>\n",
       "      <td>1.200000</td>\n",
       "      <td>935.000000</td>\n",
       "      <td>4.401596</td>\n",
       "      <td>732.500000</td>\n",
       "      <td>113.000000</td>\n",
       "      <td>653.875000</td>\n",
       "      <td>85.000000</td>\n",
       "      <td>1229.625000</td>\n",
       "      <td>727.416667</td>\n",
       "      <td>11.85000</td>\n",
       "      <td>35.387500</td>\n",
       "      <td>0.735192</td>\n",
       "    </tr>\n",
       "    <tr>\n",
       "      <th>50%</th>\n",
       "      <td>720.000000</td>\n",
       "      <td>2.000000</td>\n",
       "      <td>1064.500000</td>\n",
       "      <td>8.332268</td>\n",
       "      <td>912.750000</td>\n",
       "      <td>200.000000</td>\n",
       "      <td>804.500000</td>\n",
       "      <td>121.000000</td>\n",
       "      <td>1464.000000</td>\n",
       "      <td>961.750000</td>\n",
       "      <td>17.82500</td>\n",
       "      <td>49.275001</td>\n",
       "      <td>0.994186</td>\n",
       "    </tr>\n",
       "    <tr>\n",
       "      <th>75%</th>\n",
       "      <td>1080.000000</td>\n",
       "      <td>2.600000</td>\n",
       "      <td>1235.750000</td>\n",
       "      <td>14.185472</td>\n",
       "      <td>1122.625000</td>\n",
       "      <td>282.250000</td>\n",
       "      <td>970.500000</td>\n",
       "      <td>182.000000</td>\n",
       "      <td>1677.000000</td>\n",
       "      <td>1281.375000</td>\n",
       "      <td>24.52500</td>\n",
       "      <td>62.250000</td>\n",
       "      <td>1.312562</td>\n",
       "    </tr>\n",
       "    <tr>\n",
       "      <th>max</th>\n",
       "      <td>1380.000000</td>\n",
       "      <td>11.900000</td>\n",
       "      <td>2039.750000</td>\n",
       "      <td>63.741476</td>\n",
       "      <td>2214.000000</td>\n",
       "      <td>1479.000000</td>\n",
       "      <td>2682.750000</td>\n",
       "      <td>332.600000</td>\n",
       "      <td>2775.000000</td>\n",
       "      <td>2522.750000</td>\n",
       "      <td>44.60000</td>\n",
       "      <td>88.725000</td>\n",
       "      <td>2.231036</td>\n",
       "    </tr>\n",
       "  </tbody>\n",
       "</table>\n",
       "</div>"
      ],
      "text/plain": [
       "              Time       CO(GT)  PT08.S1(CO)     C6H6(GT)  PT08.S2(NMHC)  \\\n",
       "count  8619.000000  8619.000000  8619.000000  8619.000000    8619.000000   \n",
       "mean    718.459682     2.118842  1101.210591    10.186417     942.043334   \n",
       "std     397.673439     1.314770   219.285975     7.547976     270.112297   \n",
       "min      60.000000     0.100000   647.250000     0.149048     383.250000   \n",
       "25%     360.000000     1.200000   935.000000     4.401596     732.500000   \n",
       "50%     720.000000     2.000000  1064.500000     8.332268     912.750000   \n",
       "75%    1080.000000     2.600000  1235.750000    14.185472    1122.625000   \n",
       "max    1380.000000    11.900000  2039.750000    63.741476    2214.000000   \n",
       "\n",
       "           NOx(GT)  PT08.S3(NOx)      NO2(GT)  PT08.S4(NO2)  PT08.S5(O3)  \\\n",
       "count  8619.000000   8619.000000  8619.000000   8619.000000  8619.000000   \n",
       "mean    236.647743    834.805836   128.244077   1459.116564  1023.809384   \n",
       "std     189.595819    259.022195    54.945612    348.364485   401.844519   \n",
       "min       2.000000    322.000000     3.000000    551.000000   221.000000   \n",
       "25%     113.000000    653.875000    85.000000   1229.625000   727.416667   \n",
       "50%     200.000000    804.500000   121.000000   1464.000000   961.750000   \n",
       "75%     282.250000    970.500000   182.000000   1677.000000  1281.375000   \n",
       "max    1479.000000   2682.750000   332.600000   2775.000000  2522.750000   \n",
       "\n",
       "                T           RH           AH  \n",
       "count  8619.00000  8619.000000  8619.000000  \n",
       "mean     18.41145    48.965202     1.024322  \n",
       "std       8.88805    17.400430     0.403355  \n",
       "min      -1.90000     9.175000     0.184679  \n",
       "25%      11.85000    35.387500     0.735192  \n",
       "50%      17.82500    49.275001     0.994186  \n",
       "75%      24.52500    62.250000     1.312562  \n",
       "max      44.60000    88.725000     2.231036  "
      ]
     },
     "execution_count": 124,
     "metadata": {},
     "output_type": "execute_result"
    }
   ],
   "source": [
    "df.describe()"
   ]
  },
  {
   "cell_type": "code",
   "execution_count": 125,
   "metadata": {},
   "outputs": [
    {
     "data": {
      "text/html": [
       "<div>\n",
       "<style scoped>\n",
       "    .dataframe tbody tr th:only-of-type {\n",
       "        vertical-align: middle;\n",
       "    }\n",
       "\n",
       "    .dataframe tbody tr th {\n",
       "        vertical-align: top;\n",
       "    }\n",
       "\n",
       "    .dataframe thead th {\n",
       "        text-align: right;\n",
       "    }\n",
       "</style>\n",
       "<table border=\"1\" class=\"dataframe\">\n",
       "  <thead>\n",
       "    <tr style=\"text-align: right;\">\n",
       "      <th></th>\n",
       "      <th>Time</th>\n",
       "      <th>CO(GT)</th>\n",
       "      <th>PT08.S1(CO)</th>\n",
       "      <th>C6H6(GT)</th>\n",
       "      <th>PT08.S2(NMHC)</th>\n",
       "      <th>NOx(GT)</th>\n",
       "      <th>PT08.S3(NOx)</th>\n",
       "      <th>NO2(GT)</th>\n",
       "      <th>PT08.S4(NO2)</th>\n",
       "      <th>PT08.S5(O3)</th>\n",
       "      <th>T</th>\n",
       "      <th>RH</th>\n",
       "      <th>AH</th>\n",
       "    </tr>\n",
       "  </thead>\n",
       "  <tbody>\n",
       "    <tr>\n",
       "      <th>0</th>\n",
       "      <td>1080</td>\n",
       "      <td>2.6</td>\n",
       "      <td>1360.00</td>\n",
       "      <td>11.881723</td>\n",
       "      <td>1045.50</td>\n",
       "      <td>166.0</td>\n",
       "      <td>1056.25</td>\n",
       "      <td>113.0</td>\n",
       "      <td>1692.00</td>\n",
       "      <td>1267.50</td>\n",
       "      <td>13.60</td>\n",
       "      <td>48.875001</td>\n",
       "      <td>0.757754</td>\n",
       "    </tr>\n",
       "    <tr>\n",
       "      <th>1</th>\n",
       "      <td>1140</td>\n",
       "      <td>2.0</td>\n",
       "      <td>1292.25</td>\n",
       "      <td>9.397165</td>\n",
       "      <td>954.75</td>\n",
       "      <td>103.0</td>\n",
       "      <td>1173.75</td>\n",
       "      <td>92.0</td>\n",
       "      <td>1558.75</td>\n",
       "      <td>972.25</td>\n",
       "      <td>13.30</td>\n",
       "      <td>47.700000</td>\n",
       "      <td>0.725487</td>\n",
       "    </tr>\n",
       "    <tr>\n",
       "      <th>2</th>\n",
       "      <td>1200</td>\n",
       "      <td>2.2</td>\n",
       "      <td>1402.00</td>\n",
       "      <td>8.997817</td>\n",
       "      <td>939.25</td>\n",
       "      <td>131.0</td>\n",
       "      <td>1140.00</td>\n",
       "      <td>114.0</td>\n",
       "      <td>1554.50</td>\n",
       "      <td>1074.00</td>\n",
       "      <td>11.90</td>\n",
       "      <td>53.975000</td>\n",
       "      <td>0.750239</td>\n",
       "    </tr>\n",
       "    <tr>\n",
       "      <th>3</th>\n",
       "      <td>1260</td>\n",
       "      <td>2.2</td>\n",
       "      <td>1375.50</td>\n",
       "      <td>9.228796</td>\n",
       "      <td>948.25</td>\n",
       "      <td>172.0</td>\n",
       "      <td>1092.00</td>\n",
       "      <td>122.0</td>\n",
       "      <td>1583.75</td>\n",
       "      <td>1203.25</td>\n",
       "      <td>11.00</td>\n",
       "      <td>60.000000</td>\n",
       "      <td>0.786713</td>\n",
       "    </tr>\n",
       "    <tr>\n",
       "      <th>4</th>\n",
       "      <td>1320</td>\n",
       "      <td>1.6</td>\n",
       "      <td>1272.25</td>\n",
       "      <td>6.518224</td>\n",
       "      <td>835.50</td>\n",
       "      <td>131.0</td>\n",
       "      <td>1205.00</td>\n",
       "      <td>116.0</td>\n",
       "      <td>1490.00</td>\n",
       "      <td>1110.00</td>\n",
       "      <td>11.15</td>\n",
       "      <td>59.575001</td>\n",
       "      <td>0.788794</td>\n",
       "    </tr>\n",
       "  </tbody>\n",
       "</table>\n",
       "</div>"
      ],
      "text/plain": [
       "   Time  CO(GT)  PT08.S1(CO)   C6H6(GT)  PT08.S2(NMHC)  NOx(GT)  PT08.S3(NOx)  \\\n",
       "0  1080     2.6      1360.00  11.881723        1045.50    166.0       1056.25   \n",
       "1  1140     2.0      1292.25   9.397165         954.75    103.0       1173.75   \n",
       "2  1200     2.2      1402.00   8.997817         939.25    131.0       1140.00   \n",
       "3  1260     2.2      1375.50   9.228796         948.25    172.0       1092.00   \n",
       "4  1320     1.6      1272.25   6.518224         835.50    131.0       1205.00   \n",
       "\n",
       "   NO2(GT)  PT08.S4(NO2)  PT08.S5(O3)      T         RH        AH  \n",
       "0    113.0       1692.00      1267.50  13.60  48.875001  0.757754  \n",
       "1     92.0       1558.75       972.25  13.30  47.700000  0.725487  \n",
       "2    114.0       1554.50      1074.00  11.90  53.975000  0.750239  \n",
       "3    122.0       1583.75      1203.25  11.00  60.000000  0.786713  \n",
       "4    116.0       1490.00      1110.00  11.15  59.575001  0.788794  "
      ]
     },
     "execution_count": 125,
     "metadata": {},
     "output_type": "execute_result"
    }
   ],
   "source": [
    "df.head(5)"
   ]
  },
  {
   "cell_type": "code",
   "execution_count": 126,
   "metadata": {},
   "outputs": [
    {
     "data": {
      "text/plain": [
       "Index(['Time', 'CO(GT)', 'PT08.S1(CO)', 'C6H6(GT)', 'PT08.S2(NMHC)', 'NOx(GT)',\n",
       "       'PT08.S3(NOx)', 'NO2(GT)', 'PT08.S4(NO2)', 'PT08.S5(O3)', 'T', 'RH',\n",
       "       'AH'],\n",
       "      dtype='object')"
      ]
     },
     "execution_count": 126,
     "metadata": {},
     "output_type": "execute_result"
    }
   ],
   "source": [
    "df.columns"
   ]
  },
  {
   "cell_type": "code",
   "execution_count": 127,
   "metadata": {},
   "outputs": [
    {
     "data": {
      "text/plain": [
       "<matplotlib.axes._subplots.AxesSubplot at 0x21a63ae6f28>"
      ]
     },
     "execution_count": 127,
     "metadata": {},
     "output_type": "execute_result"
    },
    {
     "data": {
      "image/png": "[encoded data removed]",
      "text/plain": [
       "<Figure size 432x288 with 1 Axes>"
      ]
     },
     "metadata": {
      "needs_background": "light"
     },
     "output_type": "display_data"
    }
   ],
   "source": [
    "# Distribution of targeted column\n",
    "# Make PT08.S1(CO) as the target feature\n",
    "\n",
    "sns.distplot(df['PT08.S1(CO)'])"
   ]
  },
  {
   "cell_type": "code",
   "execution_count": 128,
   "metadata": {},
   "outputs": [
    {
     "name": "stdout",
     "output_type": "stream",
     "text": [
      "The skewness of PT08.S1(CO) is 0.7435024813898744\n"
     ]
    }
   ],
   "source": [
    "#skewness\n",
    "print (\"The skewness of PT08.S1(CO) is {}\".format(df['PT08.S1(CO)'].skew()))"
   ]
  },
  {
   "cell_type": "code",
   "execution_count": 129,
   "metadata": {},
   "outputs": [
    {
     "name": "stdout",
     "output_type": "stream",
     "text": [
      "Skewness is 0.29133309001299706\n"
     ]
    },
    {
     "data": {
      "text/plain": [
       "<matplotlib.axes._subplots.AxesSubplot at 0x21a65cc9048>"
      ]
     },
     "execution_count": 129,
     "metadata": {},
     "output_type": "execute_result"
    },
    {
     "data": {
      "image/png": "[encoded data removed]",
      "text/plain": [
       "<Figure size 432x288 with 1 Axes>"
      ]
     },
     "metadata": {
      "needs_background": "light"
     },
     "output_type": "display_data"
    }
   ],
   "source": [
    "#now transforming the target variable\n",
    "target = np.log(df['PT08.S1(CO)'])\n",
    "print ('Skewness is', target.skew())\n",
    "sns.distplot(target)"
   ]
  },
  {
   "cell_type": "code",
   "execution_count": 130,
   "metadata": {},
   "outputs": [
    {
     "data": {
      "text/plain": [
       "<matplotlib.axes._subplots.AxesSubplot at 0x21a67c5c320>"
      ]
     },
     "execution_count": 130,
     "metadata": {},
     "output_type": "execute_result"
    },
    {
     "data": {
      "image/png": "[encoded data removed]",
      "text/plain": [
       "<Figure size 432x288 with 2 Axes>"
      ]
     },
     "metadata": {
      "needs_background": "light"
     },
     "output_type": "display_data"
    }
   ],
   "source": [
    "sns.heatmap(df.corr())"
   ]
  },
  {
   "cell_type": "code",
   "execution_count": 131,
   "metadata": {},
   "outputs": [],
   "source": [
    "def mean_normalization (X):\n",
    "    X_norm = X\n",
    "    mu = np.zeros((1, X_norm.shape[1]))\n",
    "    sigma = np.zeros((1, X_norm.shape[1]))\n",
    "    \n",
    "    mu = np.mean(X_norm, axis = 0)\n",
    "    sigma = np.std(X_norm, axis = 0)\n",
    "    \n",
    "    tf_mu = X_norm - mu\n",
    "    \n",
    "    X_norm = tf_mu / sigma\n",
    "    \n",
    "    return X_norm, mu, sigma "
   ]
  },
  {
   "cell_type": "code",
   "execution_count": 132,
   "metadata": {},
   "outputs": [],
   "source": [
    "result = mean_normalization(df)"
   ]
  },
  {
   "cell_type": "code",
   "execution_count": 133,
   "metadata": {},
   "outputs": [],
   "source": [
    "Data, mu, sigma = result"
   ]
  },
  {
   "cell_type": "code",
   "execution_count": 134,
   "metadata": {},
   "outputs": [
    {
     "data": {
      "text/html": [
       "<div>\n",
       "<style scoped>\n",
       "    .dataframe tbody tr th:only-of-type {\n",
       "        vertical-align: middle;\n",
       "    }\n",
       "\n",
       "    .dataframe tbody tr th {\n",
       "        vertical-align: top;\n",
       "    }\n",
       "\n",
       "    .dataframe thead th {\n",
       "        text-align: right;\n",
       "    }\n",
       "</style>\n",
       "<table border=\"1\" class=\"dataframe\">\n",
       "  <thead>\n",
       "    <tr style=\"text-align: right;\">\n",
       "      <th></th>\n",
       "      <th>Time</th>\n",
       "      <th>CO(GT)</th>\n",
       "      <th>PT08.S1(CO)</th>\n",
       "      <th>C6H6(GT)</th>\n",
       "      <th>PT08.S2(NMHC)</th>\n",
       "      <th>NOx(GT)</th>\n",
       "      <th>PT08.S3(NOx)</th>\n",
       "      <th>NO2(GT)</th>\n",
       "      <th>PT08.S4(NO2)</th>\n",
       "      <th>PT08.S5(O3)</th>\n",
       "      <th>T</th>\n",
       "      <th>RH</th>\n",
       "      <th>AH</th>\n",
       "    </tr>\n",
       "  </thead>\n",
       "  <tbody>\n",
       "    <tr>\n",
       "      <th>0</th>\n",
       "      <td>0.909191</td>\n",
       "      <td>0.365985</td>\n",
       "      <td>1.180214</td>\n",
       "      <td>0.224617</td>\n",
       "      <td>0.383036</td>\n",
       "      <td>-0.372645</td>\n",
       "      <td>0.854973</td>\n",
       "      <td>-0.277455</td>\n",
       "      <td>0.668544</td>\n",
       "      <td>0.606465</td>\n",
       "      <td>-0.541371</td>\n",
       "      <td>-0.005184</td>\n",
       "      <td>-0.660916</td>\n",
       "    </tr>\n",
       "    <tr>\n",
       "      <th>1</th>\n",
       "      <td>1.060078</td>\n",
       "      <td>-0.090395</td>\n",
       "      <td>0.871239</td>\n",
       "      <td>-0.104571</td>\n",
       "      <td>0.047045</td>\n",
       "      <td>-0.704950</td>\n",
       "      <td>1.308629</td>\n",
       "      <td>-0.659674</td>\n",
       "      <td>0.286020</td>\n",
       "      <td>-0.128314</td>\n",
       "      <td>-0.575126</td>\n",
       "      <td>-0.072715</td>\n",
       "      <td>-0.740915</td>\n",
       "    </tr>\n",
       "    <tr>\n",
       "      <th>2</th>\n",
       "      <td>1.210964</td>\n",
       "      <td>0.061731</td>\n",
       "      <td>1.371756</td>\n",
       "      <td>-0.157482</td>\n",
       "      <td>-0.010342</td>\n",
       "      <td>-0.557258</td>\n",
       "      <td>1.178323</td>\n",
       "      <td>-0.259255</td>\n",
       "      <td>0.273819</td>\n",
       "      <td>0.124908</td>\n",
       "      <td>-0.732650</td>\n",
       "      <td>0.287929</td>\n",
       "      <td>-0.679547</td>\n",
       "    </tr>\n",
       "    <tr>\n",
       "      <th>3</th>\n",
       "      <td>1.361850</td>\n",
       "      <td>0.061731</td>\n",
       "      <td>1.250902</td>\n",
       "      <td>-0.126878</td>\n",
       "      <td>0.022979</td>\n",
       "      <td>-0.340996</td>\n",
       "      <td>0.993000</td>\n",
       "      <td>-0.113648</td>\n",
       "      <td>0.357788</td>\n",
       "      <td>0.446568</td>\n",
       "      <td>-0.833915</td>\n",
       "      <td>0.634205</td>\n",
       "      <td>-0.589117</td>\n",
       "    </tr>\n",
       "    <tr>\n",
       "      <th>4</th>\n",
       "      <td>1.512737</td>\n",
       "      <td>-0.394649</td>\n",
       "      <td>0.780029</td>\n",
       "      <td>-0.486012</td>\n",
       "      <td>-0.394464</td>\n",
       "      <td>-0.557258</td>\n",
       "      <td>1.429282</td>\n",
       "      <td>-0.222853</td>\n",
       "      <td>0.088658</td>\n",
       "      <td>0.214500</td>\n",
       "      <td>-0.817038</td>\n",
       "      <td>0.609779</td>\n",
       "      <td>-0.583956</td>\n",
       "    </tr>\n",
       "  </tbody>\n",
       "</table>\n",
       "</div>"
      ],
      "text/plain": [
       "       Time    CO(GT)  PT08.S1(CO)  C6H6(GT)  PT08.S2(NMHC)   NOx(GT)  \\\n",
       "0  0.909191  0.365985     1.180214  0.224617       0.383036 -0.372645   \n",
       "1  1.060078 -0.090395     0.871239 -0.104571       0.047045 -0.704950   \n",
       "2  1.210964  0.061731     1.371756 -0.157482      -0.010342 -0.557258   \n",
       "3  1.361850  0.061731     1.250902 -0.126878       0.022979 -0.340996   \n",
       "4  1.512737 -0.394649     0.780029 -0.486012      -0.394464 -0.557258   \n",
       "\n",
       "   PT08.S3(NOx)   NO2(GT)  PT08.S4(NO2)  PT08.S5(O3)         T        RH  \\\n",
       "0      0.854973 -0.277455      0.668544     0.606465 -0.541371 -0.005184   \n",
       "1      1.308629 -0.659674      0.286020    -0.128314 -0.575126 -0.072715   \n",
       "2      1.178323 -0.259255      0.273819     0.124908 -0.732650  0.287929   \n",
       "3      0.993000 -0.113648      0.357788     0.446568 -0.833915  0.634205   \n",
       "4      1.429282 -0.222853      0.088658     0.214500 -0.817038  0.609779   \n",
       "\n",
       "         AH  \n",
       "0 -0.660916  \n",
       "1 -0.740915  \n",
       "2 -0.679547  \n",
       "3 -0.589117  \n",
       "4 -0.583956  "
      ]
     },
     "execution_count": 134,
     "metadata": {},
     "output_type": "execute_result"
    }
   ],
   "source": [
    "Data.head()"
   ]
  },
  {
   "cell_type": "code",
   "execution_count": 135,
   "metadata": {},
   "outputs": [],
   "source": [
    "X = Data[['Time', 'CO(GT)', 'C6H6(GT)','PT08.S2(NMHC)', 'NOx(GT)', 'PT08.S3(NOx)', 'NO2(GT)', 'PT08.S4(NO2)',\n",
    "       'PT08.S5(O3)', 'T', 'RH', 'AH']]\n",
    "Y = Data[['PT08.S1(CO)']]"
   ]
  },
  {
   "cell_type": "code",
   "execution_count": 136,
   "metadata": {},
   "outputs": [
    {
     "name": "stdout",
     "output_type": "stream",
     "text": [
      "(8619, 12)\n",
      "(8619, 1)\n"
     ]
    }
   ],
   "source": [
    "print(X.shape)\n",
    "print(Y.shape)"
   ]
  },
  {
   "cell_type": "code",
   "execution_count": 137,
   "metadata": {},
   "outputs": [
    {
     "name": "stdout",
     "output_type": "stream",
     "text": [
      "12\n"
     ]
    }
   ],
   "source": [
    "n = X.shape[1]\n",
    "print(n)"
   ]
  },
  {
   "cell_type": "code",
   "execution_count": 138,
   "metadata": {},
   "outputs": [],
   "source": [
    "from sklearn.model_selection import train_test_split"
   ]
  },
  {
   "cell_type": "code",
   "execution_count": 139,
   "metadata": {},
   "outputs": [],
   "source": [
    "X_train, X_test, Y_train, Y_test = train_test_split( X , Y , test_size=0.11 , random_state=101 )"
   ]
  },
  {
   "cell_type": "code",
   "execution_count": 140,
   "metadata": {},
   "outputs": [
    {
     "name": "stdout",
     "output_type": "stream",
     "text": [
      "Number of training examples: m_train = 7670\n",
      "Number of testing examples: m_test = 949\n",
      "train_set_x shape: (7670, 12)\n",
      "train_set_y shape: (7670, 1)\n",
      "test_set_x shape: (949, 12)\n",
      "test_set_y shape: (949, 1)\n",
      "Number of features 'n': 12\n"
     ]
    }
   ],
   "source": [
    "m_train = X_train.shape[0]              \n",
    "m_test = X_test.shape[0]\n",
    "\n",
    "\n",
    "print (\"Number of training examples: m_train = \" + str(m_train))\n",
    "print (\"Number of testing examples: m_test = \" + str(m_test))\n",
    "print (\"train_set_x shape: \" + str(X_train.shape))\n",
    "print (\"train_set_y shape: \" + str(Y_train.shape))\n",
    "print (\"test_set_x shape: \" + str(X_test.shape))\n",
    "print (\"test_set_y shape: \" + str(Y_test.shape))\n",
    "print (\"Number of features 'n': \" + str(n))"
   ]
  },
  {
   "cell_type": "code",
   "execution_count": 141,
   "metadata": {},
   "outputs": [],
   "source": [
    "# Initializing x0 = 1 for all examples in X\n",
    "\n",
    "x0_train = np.ones((X_train.shape[0],1))\n",
    "x0_test = np.ones((X_test.shape[0],1))\n",
    "\n",
    "#x0_train\n",
    "#x0_test"
   ]
  },
  {
   "cell_type": "code",
   "execution_count": 142,
   "metadata": {},
   "outputs": [
    {
     "data": {
      "text/plain": [
       "(7670, 13)"
      ]
     },
     "execution_count": 142,
     "metadata": {},
     "output_type": "execute_result"
    }
   ],
   "source": [
    "X_train = np.hstack((x0_train, X_train))\n",
    "X_train.shape                                   # size = m*(n+1)"
   ]
  },
  {
   "cell_type": "code",
   "execution_count": 143,
   "metadata": {},
   "outputs": [
    {
     "data": {
      "text/plain": [
       "(949, 13)"
      ]
     },
     "execution_count": 143,
     "metadata": {},
     "output_type": "execute_result"
    }
   ],
   "source": [
    "X_test = np.hstack((x0_test, X_test))\n",
    "X_test.shape"
   ]
  },
  {
   "cell_type": "code",
   "execution_count": 144,
   "metadata": {},
   "outputs": [
    {
     "data": {
      "text/plain": [
       "array([[ 1.        , -0.90144436, -0.09039529, ...,  0.51066472,\n",
       "         0.41293321,  1.30871712],\n",
       "       [ 1.        , -1.50498963, -0.09039529, ..., -1.11802092,\n",
       "         0.92157074, -0.749245  ],\n",
       "       [ 1.        , -1.35410331,  0.21385816, ..., -0.76077901,\n",
       "         0.83105055, -0.38894261],\n",
       "       ...,\n",
       "       [ 1.        ,  1.51273673,  0.21385816, ..., -1.233351  ,\n",
       "        -0.28680279, -1.40813421],\n",
       "       [ 1.        , -1.50498963, -0.09039529, ..., -0.45416978,\n",
       "         0.64282586, -0.1105101 ],\n",
       "       [ 1.        , -1.203217  , -0.09039529, ..., -0.00972707,\n",
       "        -0.51525869, -0.47060227]])"
      ]
     },
     "execution_count": 144,
     "metadata": {},
     "output_type": "execute_result"
    }
   ],
   "source": [
    "X_train"
   ]
  },
  {
   "cell_type": "code",
   "execution_count": 145,
   "metadata": {},
   "outputs": [],
   "source": [
    "from sklearn.linear_model import LinearRegression"
   ]
  },
  {
   "cell_type": "code",
   "execution_count": 146,
   "metadata": {},
   "outputs": [],
   "source": [
    "lm = LinearRegression()"
   ]
  },
  {
   "cell_type": "code",
   "execution_count": 147,
   "metadata": {},
   "outputs": [
    {
     "data": {
      "text/plain": [
       "LinearRegression(copy_X=True, fit_intercept=True, n_jobs=None, normalize=False)"
      ]
     },
     "execution_count": 147,
     "metadata": {},
     "output_type": "execute_result"
    }
   ],
   "source": [
    "lm.fit(X_train, Y_train)"
   ]
  },
  {
   "cell_type": "code",
   "execution_count": 148,
   "metadata": {},
   "outputs": [
    {
     "name": "stdout",
     "output_type": "stream",
     "text": [
      "[-0.00022319]\n"
     ]
    }
   ],
   "source": [
    "intercept = lm.intercept_\n",
    "print(intercept)"
   ]
  },
  {
   "cell_type": "code",
   "execution_count": 149,
   "metadata": {},
   "outputs": [
    {
     "name": "stdout",
     "output_type": "stream",
     "text": [
      "[[ 0.          0.0867242   0.08032997  0.2268283  -0.13315518  0.00452712\n",
      "  -0.166363   -0.01306918  0.33619601  0.40223941  0.00750368  0.12109758\n",
      "  -0.18220908]]\n"
     ]
    }
   ],
   "source": [
    "coefficient = lm.coef_\n",
    "print(coefficient)"
   ]
  },
  {
   "cell_type": "code",
   "execution_count": 150,
   "metadata": {},
   "outputs": [
    {
     "data": {
      "text/html": [
       "<div>\n",
       "<style scoped>\n",
       "    .dataframe tbody tr th:only-of-type {\n",
       "        vertical-align: middle;\n",
       "    }\n",
       "\n",
       "    .dataframe tbody tr th {\n",
       "        vertical-align: top;\n",
       "    }\n",
       "\n",
       "    .dataframe thead th {\n",
       "        text-align: right;\n",
       "    }\n",
       "</style>\n",
       "<table border=\"1\" class=\"dataframe\">\n",
       "  <thead>\n",
       "    <tr style=\"text-align: right;\">\n",
       "      <th></th>\n",
       "      <th>coeff</th>\n",
       "    </tr>\n",
       "  </thead>\n",
       "  <tbody>\n",
       "    <tr>\n",
       "      <th>0</th>\n",
       "      <td>0.000000</td>\n",
       "    </tr>\n",
       "    <tr>\n",
       "      <th>1</th>\n",
       "      <td>0.086724</td>\n",
       "    </tr>\n",
       "    <tr>\n",
       "      <th>2</th>\n",
       "      <td>0.080330</td>\n",
       "    </tr>\n",
       "    <tr>\n",
       "      <th>3</th>\n",
       "      <td>0.226828</td>\n",
       "    </tr>\n",
       "    <tr>\n",
       "      <th>4</th>\n",
       "      <td>-0.133155</td>\n",
       "    </tr>\n",
       "    <tr>\n",
       "      <th>5</th>\n",
       "      <td>0.004527</td>\n",
       "    </tr>\n",
       "    <tr>\n",
       "      <th>6</th>\n",
       "      <td>-0.166363</td>\n",
       "    </tr>\n",
       "    <tr>\n",
       "      <th>7</th>\n",
       "      <td>-0.013069</td>\n",
       "    </tr>\n",
       "    <tr>\n",
       "      <th>8</th>\n",
       "      <td>0.336196</td>\n",
       "    </tr>\n",
       "    <tr>\n",
       "      <th>9</th>\n",
       "      <td>0.402239</td>\n",
       "    </tr>\n",
       "    <tr>\n",
       "      <th>10</th>\n",
       "      <td>0.007504</td>\n",
       "    </tr>\n",
       "    <tr>\n",
       "      <th>11</th>\n",
       "      <td>0.121098</td>\n",
       "    </tr>\n",
       "    <tr>\n",
       "      <th>12</th>\n",
       "      <td>-0.182209</td>\n",
       "    </tr>\n",
       "  </tbody>\n",
       "</table>\n",
       "</div>"
      ],
      "text/plain": [
       "       coeff\n",
       "0   0.000000\n",
       "1   0.086724\n",
       "2   0.080330\n",
       "3   0.226828\n",
       "4  -0.133155\n",
       "5   0.004527\n",
       "6  -0.166363\n",
       "7  -0.013069\n",
       "8   0.336196\n",
       "9   0.402239\n",
       "10  0.007504\n",
       "11  0.121098\n",
       "12 -0.182209"
      ]
     },
     "execution_count": 150,
     "metadata": {},
     "output_type": "execute_result"
    }
   ],
   "source": [
    "coefficient_df = pd.DataFrame(coefficient.transpose(), columns = [\"coeff\"])\n",
    "cdf = coefficient_df\n",
    "cdf"
   ]
  },
  {
   "cell_type": "code",
   "execution_count": 151,
   "metadata": {},
   "outputs": [],
   "source": [
    "predictions = lm.predict(X_test)"
   ]
  },
  {
   "cell_type": "code",
   "execution_count": 152,
   "metadata": {},
   "outputs": [
    {
     "data": {
      "text/plain": [
       "(949, 1)"
      ]
     },
     "execution_count": 152,
     "metadata": {},
     "output_type": "execute_result"
    }
   ],
   "source": [
    "predictions.shape"
   ]
  },
  {
   "cell_type": "code",
   "execution_count": 153,
   "metadata": {},
   "outputs": [
    {
     "data": {
      "text/plain": [
       "<matplotlib.collections.PathCollection at 0x21a67d4ddd8>"
      ]
     },
     "execution_count": 153,
     "metadata": {},
     "output_type": "execute_result"
    },
    {
     "data": {
      "image/png": "[encoded data removed]",
      "text/plain": [
       "<Figure size 432x288 with 1 Axes>"
      ]
     },
     "metadata": {
      "needs_background": "light"
     },
     "output_type": "display_data"
    }
   ],
   "source": [
    "plt.scatter(Y_test, predictions)"
   ]
  },
  {
   "cell_type": "code",
   "execution_count": 154,
   "metadata": {},
   "outputs": [
    {
     "data": {
      "text/plain": [
       "<matplotlib.axes._subplots.AxesSubplot at 0x21a68d51160>"
      ]
     },
     "execution_count": 154,
     "metadata": {},
     "output_type": "execute_result"
    },
    {
     "data": {
      "image/png": "[encoded data removed]",
      "text/plain": [
       "<Figure size 432x288 with 1 Axes>"
      ]
     },
     "metadata": {
      "needs_background": "light"
     },
     "output_type": "display_data"
    }
   ],
   "source": [
    "sns.distplot((Y_test - predictions))"
   ]
  },
  {
   "cell_type": "code",
   "execution_count": 155,
   "metadata": {},
   "outputs": [],
   "source": [
    "from sklearn import metrics"
   ]
  },
  {
   "cell_type": "code",
   "execution_count": 156,
   "metadata": {},
   "outputs": [
    {
     "data": {
      "text/plain": [
       "0.24978044132656083"
      ]
     },
     "execution_count": 156,
     "metadata": {},
     "output_type": "execute_result"
    }
   ],
   "source": [
    "metrics.mean_absolute_error(Y_test, predictions)"
   ]
  },
  {
   "cell_type": "code",
   "execution_count": 157,
   "metadata": {},
   "outputs": [
    {
     "data": {
      "text/plain": [
       "0.10166439917323584"
      ]
     },
     "execution_count": 157,
     "metadata": {},
     "output_type": "execute_result"
    }
   ],
   "source": [
    "metrics.mean_squared_error(Y_test, predictions)"
   ]
  },
  {
   "cell_type": "code",
   "execution_count": 158,
   "metadata": {},
   "outputs": [
    {
     "data": {
      "text/plain": [
       "0.31884855209524765"
      ]
     },
     "execution_count": 158,
     "metadata": {},
     "output_type": "execute_result"
    }
   ],
   "source": [
    "np.sqrt(metrics.mean_squared_error(Y_test, predictions))"
   ]
  },
  {
   "cell_type": "code",
   "execution_count": 159,
   "metadata": {},
   "outputs": [
    {
     "name": "stdout",
     "output_type": "stream",
     "text": [
      "0.11660394615379659\n"
     ]
    }
   ],
   "source": [
    "predictions1 = lm.predict(X_train)\n",
    "print(metrics.mean_squared_error(Y_train, predictions1))"
   ]
  },
  {
   "cell_type": "code",
   "execution_count": null,
   "metadata": {},
   "outputs": [],
   "source": []
  },
  {
   "cell_type": "code",
   "execution_count": 160,
   "metadata": {},
   "outputs": [
    {
     "name": "stdout",
     "output_type": "stream",
     "text": [
      "X_train shape (7670, 13)\n",
      "X_test shape (949, 13)\n",
      "Y_train shape (7670, 1)\n",
      "Y_test shape (949, 1)\n"
     ]
    }
   ],
   "source": [
    "print(\"X_train shape \" + str(X_train.shape))\n",
    "print(\"X_test shape \" + str(X_test.shape))\n",
    "print(\"Y_train shape \" + str(Y_train.shape))\n",
    "print(\"Y_test shape \" + str(Y_test.shape))"
   ]
  },
  {
   "cell_type": "code",
   "execution_count": 161,
   "metadata": {},
   "outputs": [
    {
     "name": "stdout",
     "output_type": "stream",
     "text": [
      "Total number of features 12\n",
      "Total number of examples 7670\n"
     ]
    }
   ],
   "source": [
    "print(\"Total number of features \" + str(n))\n",
    "\n",
    "m = X_train.shape[0]\n",
    "print(\"Total number of examples \" + str(m))"
   ]
  },
  {
   "cell_type": "code",
   "execution_count": 162,
   "metadata": {},
   "outputs": [],
   "source": [
    "def initialization_with_zero (dim):\n",
    "    theta = np.zeros((dim, 1), dtype = np.float64)\n",
    "    return theta"
   ]
  },
  {
   "cell_type": "code",
   "execution_count": 163,
   "metadata": {},
   "outputs": [],
   "source": [
    "def compute_cost (X, Y, theta):\n",
    "    J = 0\n",
    "    \n",
    "    hypothesis = np.dot(X, theta)\n",
    "    loss = np.square(hypothesis - Y)\n",
    "    J = (1/(2*m))*np.sum(loss)\n",
    "    \n",
    "    J = np.squeeze(J)\n",
    "    assert( J.shape == ())\n",
    "    \n",
    "    return J"
   ]
  },
  {
   "cell_type": "code",
   "execution_count": 164,
   "metadata": {},
   "outputs": [],
   "source": [
    "def gradient_descent (X, Y, theta, learning_rate, num_of_iterations):\n",
    "    J_history = []\n",
    "    J = 0\n",
    "    \n",
    "    for i in range (1, num_of_iterations):\n",
    "        hypothesis = np.dot(X, theta)\n",
    "        loss = hypothesis - Y\n",
    "        assert (loss.shape == (m,1))\n",
    "        \n",
    "        delta = np.dot(X.T, loss)\n",
    "        assert (delta.shape == (n+1,1))\n",
    "        \n",
    "        theta = theta - learning_rate*delta\n",
    "        \n",
    "        J = compute_cost(X, Y, theta)\n",
    "        J_history.append(J)\n",
    "    \n",
    "    return theta, J_history"
   ]
  },
  {
   "cell_type": "code",
   "execution_count": 165,
   "metadata": {},
   "outputs": [],
   "source": [
    "def predict (X, theta):\n",
    "    hypothesis = np.dot(X, theta)\n",
    "    return hypothesis"
   ]
  },
  {
   "cell_type": "code",
   "execution_count": 166,
   "metadata": {},
   "outputs": [],
   "source": [
    "def model (X_train, Y_train, X_test, Y_test, learning_rate , num_of_iterations):\n",
    "    \n",
    "    theta = initialization_with_zero (X_train.shape[1])\n",
    "    result = gradient_descent (X_train, Y_train, theta, learning_rate, num_of_iterations)\n",
    "    \n",
    "    theta, J_history = result\n",
    "    \n",
    "    Y_train_prediction = predict (X_train, theta)\n",
    "    Y_test_prediction = predict (X_test, theta)\n",
    "    \n",
    "    assert (Y_test_prediction.shape == Y_test.shape)\n",
    "    \n",
    "    Y_train_error = (1/(Y_train.shape[0]))*np.squeeze(np.sum(np.square(Y_train_prediction - Y_train)))\n",
    "    Y_test_error = (1/(Y_test.shape[0]))*np.squeeze(np.sum(np.square(Y_test_prediction - Y_test)))\n",
    "    \n",
    "    assert (Y_test_error.shape == ())\n",
    "    \n",
    "    print(\"Y_train_error is : \" + str(Y_train_error))\n",
    "    print(\"Y_test_error is : \" + str(Y_test_error))\n",
    "    \n",
    "    d = {\"J_history\": J_history,\n",
    "         \"Y_test_prediction\": Y_test_prediction, \n",
    "         \"Y_train_prediction\" : Y_train_prediction, \n",
    "         \"theta\" : theta,\n",
    "         \"learning_rate\" : learning_rate,\n",
    "         \"num_of_iterations\": num_of_iterations,\n",
    "         \"Y_train_error\" : Y_train_error,\n",
    "         \"Y_test_error\" : Y_test_error,\n",
    "         \"num_of_iterations\" : num_of_iterations}\n",
    "    \n",
    "    return d"
   ]
  },
  {
   "cell_type": "code",
   "execution_count": 171,
   "metadata": {},
   "outputs": [
    {
     "name": "stdout",
     "output_type": "stream",
     "text": [
      "Y_train_error is : 0.11660396482224733\n",
      "Y_test_error is : 0.10166900663050905\n"
     ]
    }
   ],
   "source": [
    "d = model(X_train, Y_train, X_test, Y_test, learning_rate = 0.00004, num_of_iterations = 2000)"
   ]
  },
  {
   "cell_type": "code",
   "execution_count": 90,
   "metadata": {},
   "outputs": [
    {
     "data": {
      "text/plain": [
       "<matplotlib.collections.PathCollection at 0x21a63552278>"
      ]
     },
     "execution_count": 90,
     "metadata": {},
     "output_type": "execute_result"
    },
    {
     "data": {
      "image/png": "[encoded data removed]",
      "text/plain": [
       "<Figure size 432x288 with 1 Axes>"
      ]
     },
     "metadata": {
      "needs_background": "light"
     },
     "output_type": "display_data"
    }
   ],
   "source": [
    "plt.scatter(Y_test, d[\"Y_test_prediction\"])"
   ]
  },
  {
   "cell_type": "code",
   "execution_count": 91,
   "metadata": {},
   "outputs": [
    {
     "data": {
      "text/plain": [
       "<matplotlib.axes._subplots.AxesSubplot at 0x21a62f02b00>"
      ]
     },
     "execution_count": 91,
     "metadata": {},
     "output_type": "execute_result"
    },
    {
     "data": {
      "image/png": "[encoded data removed]",
      "text/plain": [
       "<Figure size 432x288 with 1 Axes>"
      ]
     },
     "metadata": {
      "needs_background": "light"
     },
     "output_type": "display_data"
    }
   ],
   "source": [
    "sns.distplot((Y_test - d[\"Y_test_prediction\"]))"
   ]
  },
  {
   "cell_type": "code",
   "execution_count": null,
   "metadata": {},
   "outputs": [],
   "source": []
  },
  {
   "cell_type": "code",
   "execution_count": 170,
   "metadata": {},
   "outputs": [
    {
     "data": {
      "image/png": "[encoded data removed]",
      "text/plain": [
       "<Figure size 432x288 with 1 Axes>"
      ]
     },
     "metadata": {
      "needs_background": "light"
     },
     "output_type": "display_data"
    }
   ],
   "source": [
    "costs = np.squeeze(d['J_history'])\n",
    "plt.plot(costs)\n",
    "plt.ylabel('cost')\n",
    "plt.xlabel('iterations')\n",
    "plt.title(\"Learning rate =\" + str(d[\"learning_rate\"]))\n",
    "plt.show()"
   ]
  },
  {
   "cell_type": "code",
   "execution_count": 172,
   "metadata": {},
   "outputs": [
    {
     "data": {
      "image/png": "[encoded data removed]",
      "text/plain": [
       "<Figure size 432x288 with 1 Axes>"
      ]
     },
     "metadata": {
      "needs_background": "light"
     },
     "output_type": "display_data"
    }
   ],
   "source": [
    "costs = np.squeeze(d['J_history'])\n",
    "plt.plot(costs)\n",
    "plt.ylabel('cost')\n",
    "plt.xlabel('iterations')\n",
    "plt.title(\"Learning rate =\" + str(d[\"learning_rate\"]))\n",
    "plt.show()"
   ]
  },
  {
   "cell_type": "code",
   "execution_count": 93,
   "metadata": {},
   "outputs": [
    {
     "name": "stdout",
     "output_type": "stream",
     "text": [
      "[0.32470104464735833, 0.2209138358116991, 0.15847781129103558, 0.12069202393088399, 0.09773456257190524, 0.08372855771000805, 0.07513927423210301, 0.06983536488357688, 0.06652950290969624, 0.06444296807761445, 0.06310392133886801, 0.06222588546207698, 0.061634467175670254, 0.06122313521168106, 0.060926513250042384, 0.060704237071178134, 0.06053118689978523, 0.060391569156209114, 0.06027532410818546, 0.06017594011795088, 0.06008911951392651, 0.060011960868829886, 0.05994245505253686, 0.05987917245306645, 0.05982106708291814, 0.059767352487283106, 0.05971742202892292, 0.05967079681531208, 0.05962709101580063, 0.059585988254685016, 0.05954722516492036, 0.059510579653502094, 0.059475862329906426, 0.05944291010511836, 0.05941158131491841, 0.05938175193862489, 0.05935331262283573, 0.05932616630899025, 0.059300226322178365, 0.0592754148178573, 0.05925166150996745, 0.05922890262270799, 0.05920708002166345, 0.05918614048979435, 0.059166035121135746, 0.059146718810615756, 0.05912814982270265, 0.059110289424945825, 0.05909310157512715, 0.0590765526528484, 0.059060611228073004, 0.0590452478605018, 0.05903043492476482, 0.05901614645730578, 0.05900235802156278, 0.058989046588642464, 0.05897619043116929, 0.05896376902838766, 0.0589517629809195, 0.058940153933846585, 0.05892892450700484, 0.05891805823155908, 0.05890753949207384, 0.05889735347341892, 0.0588874861119494, 0.05887792405048332, 0.05886865459667016, 0.05885966568440064, 0.05885094583795688, 0.058842484138642084, 0.0588342701936628, 0.058826294107065115, 0.058818546452550274, 0.058811018248015344, 0.05880370093168222, 0.05879658633969247, 0.05878966668505877, 0.05878293453787422, 0.058776382806690446, 0.058770004720983676, 0.058763793814635014, 0.05875774391035776, 0.05875184910500981, 0.05874610375573449, 0.058740502466877585, 0.058735040077631896, 0.05872971165036493, 0.05872451245958767, 0.05871943798152616, 0.05871448388425975, 0.058709646018392445, 0.05870492040822607, 0.05870030324340586, 0.05869579087101124, 0.05869137978806611, 0.05868706663444438, 0.058682848186148565, 0.058678721348939915, 0.058674683152300566, 0.05867073074370873, 0.058666861383209624, 0.058663072438265476, 0.05865936137886922, 0.058655725772907244, 0.058652163281757326, 0.05864867165610915, 0.05864524873199476, 0.05864189242701796, 0.05863860073677141, 0.058635371731431574, 0.058632203552521765, 0.058629094409834215, 0.05862604257850261, 0.05862304639621721, 0.05862010426057481, 0.058617214626556384, 0.05861437600412565, 0.0586115869559423, 0.058608846095183714, 0.0586061520834696, 0.05860350362888398, 0.05860089948408985, 0.05859833844453124, 0.058595819346718585, 0.058593341066592815, 0.058590902517964324, 0.05858850265102296, 0.05858614045091531, 0.05858381493638612, 0.058581525158480335, 0.05857927019930292, 0.05857704917083356, 0.05857486121379341, 0.05857270549656135, 0.05857058121413743, 0.058568487587150976, 0.05856642386091146, 0.058564389304499635, 0.05856238320989751, 0.05856040489115486, 0.058558453683590764, 0.058556528943028346, 0.05855463004506138, 0.05855275638435088, 0.058550907373950724, 0.058549082444660505, 0.05854728104440477, 0.058545502637637, 0.05854374670476761, 0.05854201274161453, 0.05854030025887553, 0.0585386087816213, 0.05853693784880825, 0.0585352870128102, 0.058533655838968225, 0.05853204390515759, 0.05853045080137136, 0.05852887612931969, 0.05852731950204418, 0.05852578054354678, 0.05852425888843241, 0.0585227541815648, 0.058521266077735154, 0.058519794241342724, 0.05851833834608719, 0.05851689807467206, 0.05851547311851881, 0.058514063177491256, 0.05851266795962968, 0.05851128718089446, 0.05850992056491871, 0.0585085678427695, 0.05850722875271755, 0.05850590304001481, 0.058504590456679766, 0.05850329076129009, 0.058502003718782385, 0.05850072910025878, 0.05849946668280001, 0.058498216249284855, 0.05849697758821556, 0.0584957504935492, 0.05849453476453449, 0.05849333020555418, 0.05849213662597247, 0.05849095383998753, 0.0584897816664888, 0.05848861992891899, 0.05848746845514043, 0.058486327077305875, 0.05848519563173337, 0.058484073958785084, 0.058482961902750166, 0.05848185931173116, 0.058480766037534083, 0.058479681935561995, 0.05847860686471185, 0.05847754068727462, 0.058476483268838544, 0.05847543447819535, 0.05847439418724941, 0.058473362270929675, 0.05847233860710438, 0.0584713230764983, 0.05847031556261261, 0.05846931595164709, 0.05846832413242481, 0.05846733999631901, 0.0584663634371823, 0.058465394351277816, 0.058464432637212675, 0.058463478195873254, 0.05846253093036246, 0.058461590745938916, 0.058460657549957884, 0.05845973125181399, 0.058458811762885664, 0.05845789899648115, 0.05845699286778619, 0.05845609329381321, 0.058455200193352, 0.05845431348692183, 0.05845343309672499, 0.05845255894660166, 0.05845169096198616, 0.058450829069864325, 0.05844997319873232, 0.05844912327855644, 0.05844827924073428, 0.0584474410180568, 0.058446608544671694, 0.058445781756047664, 0.0584449605889398, 0.05844414498135588, 0.05844333487252374, 0.058442530202859486, 0.058441730913936604, 0.05844093694845602, 0.05844014825021698, 0.05843936476408872, 0.058438586435983, 0.05843781321282734, 0.05843704504253909, 0.058436281874000184, 0.0584355236570326, 0.05843477034237457, 0.05843402188165732, 0.05843327822738267, 0.05843253933290108, 0.05843180515239033, 0.05843107564083494, 0.05843035075400599, 0.058429630448441607, 0.058428914681427926, 0.05842820341098069, 0.05842749659582715, 0.058426794195388744, 0.05842609616976405, 0.058425402479712216, 0.058424713086637006, 0.05842402795257111, 0.05842334704016097, 0.058422670312652, 0.058421997733874256, 0.05842132926822843, 0.058420664880672234, 0.058420004536707267, 0.05841934820236606, 0.05841869584419962, 0.05841804742926525, 0.058417402925114714, 0.05841676229978268, 0.05841612552177561, 0.058415492560060754, 0.05841486338405558, 0.05841423796361751, 0.05841361626903377, 0.058412998271011714, 0.05841238394066925, 0.058411773249525636, 0.05841116616949241, 0.058410562672864715, 0.05840996273231265, 0.05840936632087309, 0.0584087734119415, 0.05840818397926414, 0.05840759799693037, 0.05840701543936519, 0.05840643628132202, 0.05840586049787558, 0.05840528806441506, 0.058404718956637416, 0.05840415315054079, 0.05840359062241825, 0.058403031348851525, 0.05840247530670503, 0.05840192247312001, 0.058401372825508786, 0.05840082634154922, 0.0584002829991793, 0.05839974277659184, 0.05839920565222937, 0.058398671604779115, 0.0583981406131681, 0.05839761265655843, 0.05839708771434263, 0.05839656576613915, 0.05839604679178796, 0.05839553077134629, 0.058395017685084434, 0.058394507513481665, 0.05839400023722231, 0.05839349583719187, 0.05839299429447323, 0.058392495590343034, 0.058391999706268065, 0.05839150662390179, 0.05839101632508092, 0.05839052879182213, 0.058390044006318795, 0.05838956195093787, 0.05838908260821677, 0.058388605960860436, 0.058388131991738326, 0.058387660683881654, 0.05838719202048053, 0.05838672598488129, 0.05838626256058382, 0.058385801731239, 0.058385343480646175, 0.058384887792750674, 0.05838443465164144, 0.058383984041548646, 0.05838353594684146, 0.05838309035202578, 0.05838264724174206, 0.05838220660076319, 0.0583817684139924, 0.05838133266646126, 0.058380899343327707, 0.058380468429874044, 0.05838003991150515, 0.05837961377374653, 0.058379190002242634, 0.058378768582754974, 0.0583783495011605, 0.05837793274344987, 0.058377518295725815, 0.05837710614420155, 0.05837669627519918, 0.058376288675148214, 0.058375883330584015, 0.058375480228146356, 0.058375079354577995, 0.058374680696723295, 0.05837428424152677, 0.05837388997603188, 0.05837349788737959, 0.05837310796280716, 0.05837272018964689, 0.05837233455532489, 0.05837195104735983, 0.05837156965336186, 0.05837119036103137, 0.05837081315815791, 0.058370438032619106, 0.05837006497237951, 0.058369693965489654, 0.05836932500008492, 0.05836895806438454, 0.058368593146690684, 0.05836823023538737, 0.05836786931893964, 0.0583675103858925, 0.0583671534248701, 0.0583667984245748, 0.05836644537378632, 0.0583660942613608, 0.058365745076230074, 0.058365397807400764, 0.058365052443953486, 0.058364708975042055, 0.0583643673898927, 0.05836402767780333, 0.05836368982814275, 0.05836335383034992, 0.05836301967393325, 0.05836268734846988, 0.05836235684360502, 0.058362028149051184, 0.05836170125458761, 0.05836137615005956, 0.05836105282537762, 0.05836073127051719, 0.05836041147551772, 0.0583600934304822, 0.058359777125576516, 0.05835946255102885, 0.05835914969712909, 0.0583588385542283, 0.05835852911273812, 0.058358221363130215, 0.05835791529593577, 0.05835761090174488, 0.058357308171206095, 0.05835700709502586, 0.05835670766396803, 0.05835640986885334, 0.05835611370055896, 0.058355819150017925, 0.05835552620821878, 0.05835523486620497, 0.05835494511507449, 0.05835465694597936, 0.05835437035012521, 0.05835408531877082, 0.05835380184322771, 0.05835351991485966, 0.058353239525082326, 0.058352960665362816, 0.058352683327219296, 0.05835240750222053, 0.05835213318198553, 0.05835186035818315, 0.05835158902253168, 0.0583513191667985, 0.05835105078279965, 0.05835078386239952, 0.05835051839751042, 0.05835025438009224, 0.05834999180215211, 0.05834973065574405, 0.058349470932968564, 0.058349212625972376, 0.05834895572694801, 0.05834870022813352, 0.05834844612181214, 0.058348193400311915, 0.05834794205600544, 0.058347692081309514, 0.05834744346868478, 0.05834719621063552, 0.05834695029970923, 0.0583467057284964, 0.058346462489630165, 0.05834622057578603, 0.058345979979681564, 0.05834574069407612, 0.05834550271177054, 0.0583452660256069, 0.05834503062846816, 0.05834479651327795, 0.05834456367300028, 0.058344332100639267, 0.05834410178923884, 0.05834387273188251, 0.0583436449216931, 0.05834341835183245, 0.05834319301550122, 0.05834296890593859, 0.058342746016422, 0.058342524340266946, 0.05834230387082668, 0.05834208460149201, 0.05834186652569104, 0.0583416496368889, 0.058341433928587566, 0.05834121939432557, 0.058341006027677826, 0.058340793822255335, 0.05834058277170498, 0.05834037286970931, 0.05834016410998634, 0.05833995648628926, 0.05833974999240625, 0.05833954462216029, 0.058339340369408924, 0.058339137228044, 0.05833893519199151, 0.0583387342552114, 0.05833853441169726, 0.058338335655476255, 0.05833813798060878, 0.05833794138118838, 0.05833774585134145, 0.0583375513852271, 0.05833735797703694, 0.05833716562099483, 0.058336974311356773, 0.05833678404241069, 0.05833659480847616, 0.05833640660390434, 0.0583362194230777, 0.058336033260409856, 0.05833584811034538, 0.05833566396735966, 0.05833548082595861, 0.058335298680678604, 0.058335117526086264, 0.0583349373567782, 0.058334758167380964, 0.05833457995255076, 0.058334402706973355, 0.05833422642536382, 0.05833405110246646, 0.05833387673305455, 0.058333703311930205, 0.05833353083392422, 0.0583333592938959, 0.05833318868673289, 0.05833301900735095, 0.05833285025069393, 0.05833268241173347, 0.058332515485468917, 0.058332349466927155, 0.058332184351162386, 0.058332020133256064, 0.0583318568083167, 0.05833169437147965, 0.05833153281790706, 0.058331372142787635, 0.058331212341336536, 0.0583310534087952, 0.058330895340431184, 0.058330738131538024, 0.05833058177743514, 0.058330426273467594, 0.05833027161500598, 0.058330117797446346, 0.05832996481620993, 0.05832981266674312, 0.05832966134451726, 0.05832951084502851, 0.05832936116379771, 0.058329212296370274, 0.05832906423831597, 0.05832891698522889, 0.05832877053272724, 0.058328624876453176, 0.05832848001207278, 0.058328335935275824, 0.05832819264177567, 0.058328050127309135, 0.0583279083876364, 0.05832776741854079, 0.05832762721582873, 0.05832748777532957, 0.058327349092895484, 0.05832721116440128, 0.058327073985744396, 0.05832693755284463, 0.05832680186164409, 0.058326666908107096, 0.05832653268822, 0.05832639919799108, 0.05832626643345044, 0.05832613439064984, 0.05832600306566264, 0.058325872454583635, 0.05832574255352892, 0.05832561335863583, 0.058325484866062774, 0.05832535707198915, 0.05832522997261518, 0.058325103564161866, 0.05832497784287082, 0.05832485280500414, 0.05832472844684435, 0.05832460476469427, 0.05832448175487683, 0.058324359413735094, 0.05832423773763205, 0.058324116722950486, 0.058323996366092964, 0.05832387666348166, 0.058323757611558245, 0.058323639206783816, 0.05832352144563873, 0.058323404324622574, 0.05832328784025399, 0.05832317198907062, 0.05832305676762897, 0.0583229421725043, 0.05832282820029056, 0.058322714847600286, 0.058322602111064395, 0.058322489987332256, 0.05832237847307143, 0.05832226756496768, 0.0583221572597248, 0.05832204755406453, 0.05832193844472654, 0.05832182992846816, 0.058321722002064466, 0.058321614662308084, 0.05832150790600908, 0.05832140172999492, 0.05832129613111034, 0.058321191106217266, 0.058321086652194716, 0.058320982765938695, 0.058320879444362116, 0.05832077668439471, 0.05832067448298291, 0.058320572837089794, 0.05832047174369495, 0.05832037119979444, 0.05832027120240066, 0.058320171748542295, 0.05832007283526415, 0.05831997445962719, 0.05831987661870833, 0.0583197793096004, 0.0583196825294121, 0.0583195862752678, 0.05831949054430755, 0.058319395333687005, 0.05831930064057724, 0.05831920646216475, 0.05831911279565136, 0.05831901963825409, 0.05831892698720513, 0.05831883483975172, 0.058318743193156095, 0.05831865204469535, 0.05831856139166146, 0.058318471231361045, 0.05831838156111549, 0.05831829237826064, 0.05831820368014694, 0.05831811546413917, 0.058318027727616496, 0.05831794046797232, 0.05831785368261423, 0.05831776736896393, 0.05831768152445712, 0.05831759614654349, 0.05831751123268656, 0.058317426780363696, 0.05831734278706595, 0.05831725925029803, 0.05831717616757823, 0.058317093536438325, 0.05831701135442354, 0.05831692961909242, 0.058316848328016806, 0.058316767478781756, 0.058316687068985455, 0.05831660709623916, 0.05831652755816709, 0.05831644845240642, 0.05831636977660713, 0.05831629152843207, 0.05831621370555671, 0.05831613630566919, 0.05831605932647024, 0.0583159827656731, 0.05831590662100339, 0.05831583089019915, 0.05831575557101074, 0.05831568066120068, 0.058315606158543726, 0.0583155320608267, 0.058315458365848484, 0.05831538507141989, 0.05831531217536367, 0.05831523967551439, 0.05831516756971844, 0.058315095855833846, 0.05831502453173034, 0.058314953595289196, 0.05831488304440327, 0.058314812876976804, 0.058314743090925485, 0.05831467368417629, 0.05831460465466752, 0.05831453600034865, 0.05831446771918031, 0.05831439980913423, 0.05831433226819315, 0.05831426509435079, 0.058314198285611775, 0.05831413183999159, 0.0583140657555165, 0.05831400003022349, 0.05831393466216022, 0.058313869649384995, 0.05831380498996665, 0.05831374068198451, 0.05831367672352837, 0.05831361311269839, 0.058313549847605076, 0.058313486926369194, 0.058313424347121716, 0.058313362108003794, 0.058313300207166685, 0.05831323864277169, 0.0583131774129901, 0.05831311651600318, 0.05831305595000202, 0.05831299571318761, 0.05831293580377069, 0.05831287621997172, 0.058312816960020844, 0.05831275802215783, 0.05831269940463201, 0.05831264110570225, 0.05831258312363684, 0.058312525456713525, 0.058312468103219404, 0.05831241106145088, 0.0583123543297136, 0.05831229790632247, 0.0583122417896015, 0.058312185977883846, 0.058312130469511725, 0.058312075262836355, 0.05831202035621792, 0.05831196574802551, 0.058311911436637096, 0.05831185742043946, 0.058311803697828145, 0.05831175026720743, 0.058311697126990254, 0.05831164427559819, 0.05831159171146139, 0.058311539433018554, 0.05831148743871685, 0.05831143572701188, 0.058311384296367674, 0.05831133314525657, 0.05831128227215925, 0.05831123167556464, 0.05831118135396985, 0.058311131305880205, 0.058311081529809135, 0.05831103202427814, 0.058310982787816774, 0.05831093381896258, 0.05831088511626105, 0.058310836678265573, 0.05831078850353741, 0.058310740590645636, 0.05831069293816712, 0.05831064554468645, 0.05831059840879591, 0.05831055152909545, 0.05831050490419261, 0.05831045853270251, 0.058310412413247796, 0.0583103665444586, 0.05831032092497251, 0.058310275553434494, 0.05831023042849692, 0.05831018554881944, 0.05831014091306903, 0.0583100965199199, 0.05831005236805344, 0.058310008456158254, 0.058309964782930046, 0.058309921347071615, 0.05830987814729278, 0.058309835182310435, 0.05830979245084841, 0.05830974995163746, 0.05830970768341527, 0.058309665644926366, 0.05830962383492211, 0.05830958225216065, 0.05830954089540686, 0.05830949976343236, 0.05830945885501544, 0.05830941816894101, 0.0583093777040006, 0.05830933745899231, 0.058309297432720765, 0.05830925762399711, 0.058309218031638924, 0.05830917865447022, 0.05830913949132139, 0.05830910054102922, 0.05830906180243679, 0.05830902327439349, 0.05830898495575493, 0.05830894684538298, 0.05830890894214565, 0.05830887124491715, 0.058308833752577775, 0.05830879646401395, 0.05830875937811807, 0.05830872249378864, 0.05830868580993011, 0.05830864932545286, 0.05830861303927327, 0.058308576950313516, 0.058308541057501696, 0.05830850535977172, 0.05830846985606328, 0.05830843454532184, 0.0583083994264986, 0.058308364498550445, 0.05830832976043994, 0.0583082952111353, 0.05830826084961033, 0.058308226674844414, 0.0583081926858225, 0.05830815888153503, 0.05830812526097794, 0.05830809182315266, 0.05830805856706598, 0.058308025491730135, 0.058307992596162726, 0.05830795987938668, 0.05830792734043025, 0.058307894978326946, 0.05830786279211555, 0.05830783078084006, 0.05830779894354967, 0.058307767279298775, 0.058307735787146854, 0.05830770446615853, 0.05830767331540351, 0.05830764233395655, 0.05830761152089743, 0.05830758087531096, 0.05830755039628688, 0.05830752008291991, 0.058307489934309675, 0.05830745994956071, 0.05830743012778239, 0.058307400468088966, 0.05830737096959949, 0.05830734163143776, 0.0583073124527324, 0.05830728343261675, 0.05830725457022884, 0.0583072258647114, 0.058307197315211806, 0.05830716892088211, 0.05830714068087893, 0.058307112594363476, 0.05830708466050151, 0.05830705687846337, 0.058307029247423856, 0.05830700176656227, 0.05830697443506238, 0.058306947252112384, 0.05830692021690489, 0.05830689332863691, 0.05830686658650978, 0.05830683998972924, 0.0583068135375053, 0.058306787229052276, 0.05830676106358875, 0.058306735040337565, 0.05830670915852577, 0.05830668341738463, 0.05830665781614957, 0.0583066323540602, 0.05830660703036024, 0.05830658184429751, 0.05830655679512397, 0.05830653188209557, 0.058306507104472376, 0.05830648246151842, 0.05830645795250177, 0.05830643357669446, 0.05830640933337247, 0.05830638522181574, 0.058306361241308106, 0.0583063373911373, 0.05830631367059492, 0.058306290078976426, 0.05830626661558109, 0.058306243279712004, 0.05830622007067606, 0.0583061969877839, 0.05830617403034991, 0.05830615119769222, 0.05830612848913265, 0.058306105903996715, 0.05830608344161358, 0.05830606110131608, 0.05830603888244066, 0.058306016784327376, 0.058305994806319886, 0.05830597294776537, 0.058305951208014614, 0.0583059295864219, 0.058305908082345016, 0.05830588669514525, 0.05830586542418737, 0.058305844268839585, 0.058305823228473524, 0.058305802302464266, 0.05830578149019027, 0.05830576079103336, 0.05830574020437873, 0.05830571972961492, 0.058305699366133806, 0.05830567911333053, 0.05830565897060355, 0.05830563893735459, 0.058305619012988634, 0.058305599196913874, 0.05830557948854175, 0.058305559887286876, 0.05830554039256706, 0.05830552100380326, 0.0583055017204196, 0.058305482541843354, 0.058305463467504835, 0.05830544449683752, 0.05830542562927796, 0.05830540686426572, 0.05830538820124346, 0.05830536963965685, 0.058305351178954586, 0.058305332818588324, 0.058305314558012765, 0.0583052963966855, 0.058305278334067116, 0.05830526036962112, 0.05830524250281393, 0.05830522473311486, 0.05830520705999615, 0.05830518948293284, 0.05830517200140284, 0.05830515461488697, 0.05830513732286879, 0.058305120124834686, 0.05830510302027385, 0.058305086008678245, 0.058305069089542604, 0.058305052262364376, 0.058305035526643775, 0.05830501888188371, 0.05830500232758982, 0.05830498586327039, 0.0583049694884364, 0.0583049532026015, 0.05830493700528195, 0.058304920895996676, 0.0583049048742672, 0.058304888939617626, 0.058304873091574685, 0.05830485732966766, 0.058304841653428384, 0.058304826062391235, 0.058304810556093156, 0.058304795134073564, 0.058304779795874395, 0.05830476454104006, 0.0583047493691175, 0.05830473427965605, 0.05830471927220753, 0.058304704346326196, 0.058304689501568724, 0.058304674737494185, 0.05830466005366406, 0.05830464544964222, 0.058304630924994896, 0.05830461647929066, 0.058304602112100465, 0.05830458782299759, 0.058304573611557595, 0.05830455947735838, 0.058304545419980154, 0.05830453143900535, 0.058304517534018746, 0.05830450370460731, 0.058304489950360285, 0.058304476270869154, 0.0583044626657276, 0.05830444913453154, 0.05830443567687904, 0.05830442229237043, 0.05830440898060812, 0.058304395741196745, 0.058304382573743076, 0.058304369477856, 0.058304356453146564, 0.058304343499227876, 0.058304330615715216, 0.0583043178022259, 0.058304305058379344, 0.058304292383797036, 0.05830427977810252, 0.058304267240921366, 0.058304254771881225, 0.058304242370611714, 0.058304230036744516, 0.05830421776991327, 0.05830420556975364, 0.05830419343590326, 0.058304181368001716, 0.05830416936569059, 0.05830415742861339, 0.05830414555641554, 0.058304133748744436, 0.05830412200524934, 0.058304110325581485, 0.05830409870939394, 0.05830408715634169, 0.05830407566608157, 0.05830406423827232, 0.0583040528725745, 0.05830404156865054, 0.05830403032616468, 0.058304019144783, 0.05830400802417338, 0.058303996964005546, 0.05830398596395097, 0.058303975023682925, 0.05830396414287648, 0.058303953321208433, 0.05830394255835739, 0.05830393185400365, 0.058303921207829276, 0.05830391061951807, 0.05830390008875552, 0.058303889615228865, 0.058303879198627014, 0.058303868838640555, 0.058303858534961804, 0.0583038482872847, 0.05830383809530488, 0.05830382795871962, 0.05830381787722785, 0.058303807850530125, 0.05830379787832863, 0.058303787960327175, 0.05830377809623118, 0.058303768285747654, 0.05830375852858522, 0.05830374882445407, 0.05830373917306595, 0.05830372957413423, 0.05830372002737378, 0.058303710532501045, 0.05830370108923402, 0.05830369169729222, 0.05830368235639668, 0.05830367306626996, 0.05830366382663613, 0.05830365463722075, 0.05830364549775088, 0.05830363640795506, 0.0583036273675633, 0.05830361837630709, 0.058303609433919386, 0.05830360054013455, 0.058303591694688454, 0.05830358289731834, 0.05830357414776293, 0.05830356544576234, 0.05830355679105811, 0.058303548183393165, 0.05830353962251186, 0.0583035311081599, 0.05830352264008442, 0.05830351421803387, 0.05830350584175811, 0.05830349751100837, 0.058303489225537186, 0.05830348098509847, 0.058303472789447475, 0.058303464638340755, 0.05830345653153623, 0.05830344846879309, 0.058303440449871874, 0.0583034324745344, 0.058303424542543794, 0.05830341665366443, 0.05830340880766204, 0.05830340100430354, 0.05830339324335718, 0.05830338552459244, 0.05830337784778005, 0.05830337021269201, 0.058303362619101524, 0.05830335506678307, 0.0583033475555123, 0.05830334008506616, 0.05830333265522272, 0.05830332526576131, 0.05830331791646247, 0.058303310607107896, 0.05830330333748049, 0.05830329610736431, 0.05830328891654465, 0.05830328176480788, 0.058303274651941635, 0.0583032675777346, 0.05830326054197669, 0.05830325354445891, 0.058303246584973434, 0.058303239663313536, 0.05830323277927365, 0.05830322593264929, 0.0583032191232371, 0.05830321235083485, 0.05830320561524135, 0.05830319891625658, 0.058303192253681524, 0.05830318562731833, 0.05830317903697017, 0.05830317248244128, 0.05830316596353701, 0.058303159480063704, 0.05830315303182882, 0.05830314661864082, 0.05830314024030921, 0.05830313389664456, 0.05830312758745843, 0.05830312131256345, 0.05830311507177322, 0.058303108864902406, 0.05830310269176661, 0.05830309655218252, 0.05830309044596775, 0.058303084372940954, 0.05830307833292175, 0.058303072325730725, 0.05830306635118946, 0.0583030604091205, 0.05830305449934735, 0.058303048621694484, 0.05830304277598733, 0.058303036962052246, 0.05830303117971656, 0.05830302542880852, 0.05830301970915731, 0.058303014020593055, 0.05830300836294678, 0.05830300273605045, 0.05830299713973694, 0.058302991573840016, 0.05830298603819438, 0.05830298053263561, 0.058302975057000155, 0.058302969611125396, 0.05830296419484959, 0.058302958808011854, 0.05830295345045218, 0.05830294812201145, 0.058302942822531394, 0.05830293755185461, 0.05830293230982454, 0.05830292709628552, 0.05830292191108265, 0.05830291675406195, 0.05830291162507023, 0.058302906523955166, 0.05830290145056523, 0.058302896404749754, 0.05830289138635884, 0.058302886395243454, 0.058302881431255345, 0.05830287649424706, 0.058302871584071984, 0.05830286670058425, 0.05830286184363883, 0.05830285701309146, 0.05830285220879865, 0.05830284743061771, 0.058302842678406734, 0.05830283795202455, 0.058302833251330795, 0.058302828576185836, 0.05830282392645081, 0.05830281930198763, 0.05830281470265891, 0.05830281012832808, 0.058302805578859244, 0.05830280105411728, 0.05830279655396782, 0.058302792078277155, 0.05830278762691238, 0.058302783199741276, 0.05830277879663234, 0.05830277441745481, 0.058302770062078596, 0.05830276573037434, 0.05830276142221339, 0.05830275713746778, 0.058302752876010236, 0.058302748637714195, 0.05830274442245378, 0.05830274023010378, 0.058302736060539664, 0.058302731913637613, 0.058302727789274436, 0.05830272368732763, 0.05830271960767538, 0.0583027155501965, 0.05830271151477046, 0.05830270750127742, 0.058302703509598174, 0.05830269953961416, 0.05830269559120744, 0.05830269166426076, 0.058302687758657476, 0.0583026838742816, 0.05830268001101773, 0.05830267616875114, 0.0583026723473677, 0.058302668546753915, 0.05830266476679689, 0.058302661007384356, 0.05830265726840465, 0.05830265354974672, 0.058302649851300126, 0.058302646172955, 0.05830264251460209, 0.05830263887613275, 0.05830263525743889, 0.05830263165841305, 0.05830262807894831, 0.05830262451893836, 0.05830262097827747, 0.05830261745686049, 0.058302613954582784, 0.05830261047134036, 0.058302607007029744, 0.058302603561548066, 0.05830260013479295, 0.058302596726662645, 0.058302593337055904, 0.05830258996587207, 0.05830258661301099, 0.05830258327837309, 0.05830257996185932, 0.05830257666337118, 0.0583025733828107, 0.05830257012008042, 0.05830256687508346, 0.05830256364772342, 0.058302560437904445, 0.0583025572455312, 0.058302554070508855, 0.05830255091274313, 0.05830254777214021, 0.05830254464860681, 0.05830254154205017, 0.05830253845237803, 0.058302535379498595, 0.058302532323320604, 0.058302529283753284, 0.05830252626070636, 0.05830252325409004, 0.05830252026381502, 0.058302517289792466, 0.058302514331934084, 0.05830251139015197, 0.05830250846435879, 0.058302505554467615, 0.058302502660392025, 0.05830249978204608, 0.058302496919344256, 0.05830249407220154, 0.05830249124053336, 0.05830248842425563, 0.058302485623284675, 0.05830248283753731, 0.05830248006693081, 0.05830247731138286, 0.05830247457081162, 0.0583024718451357, 0.058302469134274136, 0.05830246643814641, 0.05830246375667243, 0.05830246108977257, 0.05830245843736762, 0.05830245579937879, 0.058302453175727714, 0.05830245056633649, 0.05830244797112759, 0.058302445390023945, 0.05830244282294889, 0.058302440269826186, 0.058302437730579984, 0.05830243520513487, 0.05830243269341584, 0.058302430195348275, 0.058302427710857994, 0.058302425239871204, 0.0583024227823145, 0.0583024203381149, 0.05830241790719979, 0.058302415489496974, 0.05830241308493466, 0.05830241069344141, 0.0583024083149462, 0.05830240594937836, 0.058302403596667655, 0.058302401256744206, 0.0583023989295385, 0.058302396614981426, 0.05830239431300423, 0.05830239202353853, 0.05830238974651633, 0.05830238748187001, 0.0583023852295323, 0.0583023829894363, 0.05830238076151547, 0.058302378545703644, 0.058302376341935, 0.05830237415014409, 0.05830237197026581, 0.05830236980223542, 0.05830236764598851, 0.05830236550146105, 0.058302363368589336, 0.058302361247310024, 0.0583023591375601, 0.0583023570392769, 0.05830235495239812, 0.058302352876861745, 0.058302350812606145, 0.05830234875957002, 0.05830234671769237, 0.058302344686912554, 0.058302342667170264, 0.0583023406584055, 0.05830233866055858, 0.0583023366735702, 0.05830233469738132, 0.05830233273193325, 0.058302330777167614, 0.05830232883302635, 0.05830232689945171, 0.05830232497638627, 0.05830232306377291, 0.058302321161554815, 0.05830231926967549, 0.05830231738807873, 0.05830231551670867, 0.05830231365550973, 0.05830231180442659, 0.05830230996340432, 0.0583023081323882, 0.058302306311323854, 0.05830230450015722, 0.058302302698834456, 0.058302300907302096, 0.05830229912550691, 0.058302297353395996, 0.058302295590916695, 0.05830229383801666, 0.05830229209464384, 0.05830229036074645, 0.05830228863627299, 0.058302286921172244, 0.05830228521539325, 0.058302283518885355, 0.058302281831598184, 0.0583022801534816, 0.05830227848448577, 0.05830227682456113, 0.05830227517365836, 0.05830227353172842, 0.05830227189872257, 0.05830227027459229, 0.05830226865928934, 0.05830226705276574, 0.05830226545497377, 0.058302263865866, 0.058302262285395194, 0.05830226071351442, 0.05830225915017701, 0.058302257595336505, 0.05830225604894674, 0.05830225451096178, 0.05830225298133593, 0.05830225146002377, 0.05830224994698012, 0.05830224844216003, 0.05830224694551881, 0.058302245457012, 0.05830224397659539, 0.05830224250422502, 0.058302241039857136, 0.05830223958344827, 0.058302238134955144, 0.05830223669433475, 0.05830223526154427, 0.058302233836541185, 0.05830223241928314, 0.05830223100972806, 0.05830222960783407, 0.058302228213559536, 0.058302226826863035, 0.05830222544770339, 0.05830222407603962, 0.05830222271183101, 0.05830222135503703, 0.05830222000561737, 0.05830221866353196, 0.05830221732874093, 0.05830221600120465, 0.058302214680883674, 0.05830221336773879, 0.058302212061731, 0.058302210762821514, 0.058302209470971735, 0.05830220818614332, 0.05830220690829807, 0.058302205637398075, 0.05830220437340555, 0.05830220311628298, 0.058302201865993004, 0.0583022006224985, 0.05830219938576252, 0.058302198155748344, 0.05830219693241945, 0.058302195715739455, 0.058302194505672277, 0.05830219330218194, 0.05830219210523271, 0.05830219091478903, 0.05830218973081555, 0.0583021885532771, 0.05830218738213871, 0.058302186217365576, 0.05830218505892313, 0.05830218390677694, 0.058302182760892794, 0.058302181621236654, 0.058302180487774684, 0.058302179360473196, 0.05830217823929873, 0.05830217712421797, 0.0583021760151978, 0.05830217491220527, 0.058302173815207636, 0.058302172724172305, 0.05830217163906688, 0.05830217055985912, 0.05830216948651697, 0.058302168419008565, 0.0583021673573022, 0.058302166301366316, 0.05830216525116955, 0.058302164206680746, 0.058302163167868834, 0.058302162134702996, 0.05830216110715253, 0.05830216008518691, 0.05830215906877578, 0.05830215805788898, 0.05830215705249645, 0.05830215605256835, 0.05830215505807497, 0.05830215406898677, 0.05830215308527437, 0.05830215210690857, 0.058302151133860294, 0.058302150166100644, 0.05830214920360088, 0.058302148246332404, 0.05830214729426679, 0.058302146347375766, 0.0583021454056312, 0.05830214446900511, 0.0583021435374697, 0.058302142610997296, 0.05830214168956037, 0.05830214077313155, 0.05830213986168364, 0.05830213895518952, 0.058302138053622325, 0.058302137156955244, 0.05830213626516165, 0.05830213537821505, 0.058302134496089106, 0.058302133618757614, 0.058302132746194515, 0.058302131878373915, 0.05830213101527, 0.05830213015685716, 0.05830212930310987, 0.05830212845400281, 0.05830212760951074, 0.05830212676960858, 0.058302125934271386, 0.05830212510347434, 0.05830212427719278, 0.05830212345540215, 0.058302122638078026, 0.05830212182519617, 0.058302121016732406, 0.05830212021266274, 0.05830211941296328, 0.05830211861761028, 0.05830211782658011, 0.05830211703984929, 0.058302116257394426, 0.0583021154791923, 0.05830211470521979, 0.0583021139354539, 0.058302113169871786, 0.05830211240845068, 0.058302111651168, 0.058302110898001226, 0.058302110148928006, 0.05830210940392608, 0.05830210866297332, 0.05830210792604773, 0.05830210719312741, 0.05830210646419059, 0.05830210573921563, 0.05830210501818099, 0.05830210430106525, 0.058302103587847126, 0.058302102878505416, 0.05830210217301905, 0.05830210147136709, 0.05830210077352869, 0.05830210007948311, 0.05830209938920975, 0.05830209870268811, 0.05830209801989779, 0.05830209734081851, 0.058302096665430105, 0.05830209599371251, 0.05830209532564577, 0.05830209466121005, 0.05830209400038563, 0.058302093343152846, 0.058302092689492206, 0.05830209203938428, 0.058302091392809764, 0.05830209074974945, 0.05830209011018425, 0.058302089474095146, 0.058302088841463276, 0.058302088212269815, 0.058302087586496104, 0.05830208696412354, 0.05830208634513363, 0.05830208572950801, 0.0583020851172284, 0.05830208450827658, 0.05830208390263448, 0.05830208330028411, 0.05830208270120759, 0.05830208210538713, 0.058302081512805, 0.058302080923443626, 0.058302080337285504, 0.058302079754313216, 0.05830207917450944, 0.058302078597856966, 0.058302078024338684, 0.05830207745393752, 0.05830207688663655, 0.05830207632241891, 0.058302075761267884, 0.05830207520316676, 0.058302074648098993, 0.05830207409604807, 0.0583020735469976, 0.0583020730009313, 0.05830207245783292, 0.05830207191768635, 0.05830207138047553, 0.0583020708461845, 0.05830207031479742, 0.05830206978629849, 0.058302069260671996, 0.058302068737902356, 0.05830206821797401, 0.058302067700871554, 0.0583020671865796, 0.05830206667508288, 0.05830206616636619, 0.05830206566041445, 0.0583020651572126, 0.05830206465674572, 0.05830206415899893, 0.058302063663957446, 0.058302063171606584, 0.05830206268193169, 0.05830206219491825, 0.05830206171055175, 0.05830206122881787, 0.058302060749702254, 0.05830206027319069, 0.05830205979926901, 0.05830205932792315, 0.05830205885913912, 0.05830205839290297, 0.05830205792920087, 0.05830205746801906, 0.0583020570093438, 0.0583020565531615, 0.058302056099458606, 0.05830205564822164, 0.058302055199437194, 0.058302054753091935, 0.058302054309172624, 0.058302053867666064, 0.05830205342855914, 0.0583020529918388, 0.0583020525574921, 0.058302052125506126, 0.05830205169586804, 0.058302051268565074, 0.05830205084358455, 0.05830205042091385, 0.058302050000540416, 0.05830204958245175, 0.05830204916663546, 0.05830204875307916, 0.058302048341770586, 0.05830204793269752, 0.05830204752584782, 0.05830204712120939, 0.05830204671877022, 0.05830204631851835, 0.058302045920441886, 0.05830204552452902, 0.058302045130767984, 0.058302044739147095, 0.05830204434965469, 0.058302043962279226, 0.0583020435770092, 0.058302043193833156, 0.058302042812739714, 0.05830204243371756, 0.058302042056755425, 0.05830204168184213, 0.05830204130896653, 0.05830204093811755, 0.05830204056928418, 0.058302040202455455, 0.05830203983762049, 0.05830203947476845, 0.05830203911388854, 0.05830203875497006, 0.05830203839800234, 0.05830203804297478, 0.05830203768987684, 0.05830203733869802, 0.058302036989427895, 0.05830203664205608, 0.0583020362965723, 0.05830203595296625, 0.05830203561122774, 0.058302035271346614, 0.058302034933312784, 0.0583020345971162, 0.058302034262746875, 0.058302033930194896, 0.058302033599450374, 0.058302033270503484, 0.05830203294334446, 0.05830203261796358, 0.058302032294351186, 0.05830203197249765, 0.058302031652393435, 0.05830203133402902, 0.05830203101739495, 0.05830203070248182, 0.05830203038928028, 0.05830203007778103, 0.0583020297679748, 0.05830202945985242, 0.05830202915340471, 0.05830202884862258, 0.05830202854549698, 0.058302028244018894, 0.05830202794417937, 0.05830202764596952, 0.058302027349380475, 0.058302027054403426, 0.05830202676102959, 0.05830202646925029, 0.058302026179056846, 0.05830202589044063, 0.05830202560339308, 0.05830202531790566, 0.05830202503396989, 0.05830202475157736, 0.05830202447071966, 0.05830202419138845, 0.05830202391357543, 0.05830202363727236, 0.058302023362471034, 0.058302023089163275, 0.05830202281734098, 0.05830202254699608, 0.058302022278120515, 0.05830202201070634, 0.05830202174474558, 0.058302021480230344, 0.05830202121715278, 0.058302020955505074, 0.05830202069527945, 0.058302020436468184, 0.05830202017906358, 0.05830201992305801, 0.05830201966844385, 0.058302019415213555, 0.05830201916335959, 0.058302018912874475, 0.05830201866375079, 0.0583020184159811, 0.05830201816955808, 0.0583020179244744, 0.05830201768072276, 0.05830201743829595, 0.05830201719718676, 0.058302016957388014, 0.05830201671889261, 0.05830201648169346, 0.0583020162457835, 0.05830201601115575, 0.05830201577780322, 0.058302015545718996, 0.05830201531489617, 0.058302015085327896, 0.058302014857007346, 0.05830201462992775, 0.05830201440408235, 0.05830201417946445, 0.05830201395606737, 0.058302013733884474, 0.05830201351290917, 0.0583020132931349, 0.058302013074555126, 0.05830201285716336, 0.05830201264095313, 0.05830201242591803, 0.05830201221205168, 0.05830201199934771, 0.05830201178779981, 0.058302011577401704, 0.058302011368147125, 0.05830201116002987, 0.05830201095304377, 0.058302010747182643, 0.05830201054244041, 0.05830201033881097, 0.05830201013628827, 0.05830200993486632, 0.058302009734539105, 0.0583020095353007, 0.05830200933714517, 0.05830200914006664, 0.058302008944059264, 0.058302008749117194, 0.05830200855523467, 0.05830200836240591, 0.058302008170625204, 0.05830200797988684, 0.05830200779018517, 0.05830200760151454, 0.058302007413869365, 0.05830200722724406, 0.05830200704163308, 0.05830200685703092, 0.0583020066734321, 0.05830200649083115, 0.05830200630922265, 0.05830200612860123, 0.0583020059489615, 0.058302005770298135, 0.05830200559260582, 0.05830200541587929, 0.05830200524011328, 0.058302005065302594, 0.058302004891442, 0.05830200471852638, 0.058302004546550566, 0.05830200437550946, 0.058302004205397974, 0.05830200403621107, 0.05830200386794372, 0.058302003700590924, 0.0583020035341477, 0.05830200336860912, 0.058302003203970255, 0.05830200304022623, 0.05830200287737217, 0.05830200271540323, 0.05830200255431462, 0.05830200239410154, 0.05830200223475924, 0.05830200207628298, 0.05830200191866805, 0.058302001761909784, 0.05830200160600351, 0.058302001450944614, 0.058302001296728474, 0.05830200114335052, 0.058302000990806194, 0.05830200083909095, 0.05830200068820031, 0.05830200053812976, 0.05830200038887489, 0.05830200024043121, 0.05830200009279435, 0.058301999945959915, 0.05830199979992354, 0.05830199965468088, 0.058301999510227645, 0.05830199936655951, 0.05830199922367225, 0.058301999081561584, 0.05830199894022331, 0.05830199879965322, 0.05830199865984716, 0.058301998520800945, 0.05830199838251046, 0.058301998244971606, 0.0583019981081803, 0.05830199797213246, 0.058301997836824056, 0.05830199770225107, 0.058301997568409494, 0.05830199743529538, 0.05830199730290475, 0.05830199717123367, 0.05830199704027824, 0.05830199691003458, 0.05830199678049879, 0.05830199665166706, 0.05830199652353553, 0.05830199639610041, 0.05830199626935792, 0.0583019961433043, 0.05830199601793577, 0.05830199589324866, 0.05830199576923922, 0.0583019956459038, 0.058301995523238705, 0.05830199540124031, 0.058301995279905, 0.058301995159229146, 0.0583019950392092, 0.05830199491984156, 0.05830199480112271, 0.0583019946830491, 0.05830199456561723, 0.05830199444882363, 0.0583019943326648, 0.05830199421713732, 0.058301994102237735, 0.058301993987962646, 0.05830199387430866, 0.058301993761272396, 0.058301993648850484, 0.058301993537039604, 0.05830199342583643, 0.058301993315237666, 0.05830199320524001, 0.0583019930958402, 0.058301992987035006, 0.058301992878821166, 0.05830199277119548, 0.058301992664154756, 0.05830199255769582, 0.058301992451815485, 0.05830199234651063, 0.05830199224177811, 0.05830199213761483, 0.05830199203401769, 0.05830199193098361, 0.058301991828509536, 0.05830199172659241, 0.05830199162522923, 0.05830199152441695, 0.058301991424152606, 0.058301991324433214, 0.058301991225255805, 0.058301991126617436, 0.05830199102851518, 0.058301990930946124, 0.05830199083390736, 0.05830199073739601, 0.05830199064140922, 0.05830199054594412, 0.05830199045099789, 0.058301990356567704, 0.05830199026265075, 0.05830199016924425, 0.05830199007634543, 0.058301989983951516, 0.05830198989205978, 0.05830198980066748, 0.05830198970977191, 0.058301989619370366, 0.05830198952946017, 0.058301989440038636, 0.058301989351103124, 0.05830198926265099, 0.0583019891746796, 0.05830198908718635, 0.058301989000168634, 0.058301988913623856, 0.05830198882754947, 0.05830198874194291, 0.058301988656801626, 0.0583019885721231, 0.0583019884879048, 0.05830198840414425, 0.05830198832083894, 0.0583019882379864, 0.058301988155584177, 0.05830198807362983, 0.05830198799212089, 0.05830198791105498, 0.05830198783042967, 0.05830198775024256, 0.05830198767049129, 0.05830198759117347, 0.05830198751228674, 0.05830198743382878, 0.058301987355797245, 0.058301987278189825, 0.0583019872010042, 0.05830198712423809, 0.05830198704788923, 0.05830198697195531, 0.05830198689643411, 0.05830198682132338, 0.058301986746620876, 0.058301986672324384, 0.05830198659843172, 0.05830198652494067, 0.05830198645184904, 0.058301986379154666, 0.05830198630685541, 0.05830198623494911, 0.058301986163433614, 0.058301986092306815, 0.05830198602156661, 0.05830198595121087, 0.058301985881237535, 0.058301985811644516, 0.05830198574242973, 0.05830198567359114, 0.0583019856051267, 0.05830198553703436, 0.05830198546931212, 0.058301985401957954, 0.058301985334969865, 0.05830198526834586, 0.058301985202083975, 0.058301985136182226, 0.058301985070638655, 0.05830198500545133, 0.05830198494061829, 0.05830198487613764, 0.05830198481200744, 0.05830198474822581, 0.05830198468479083, 0.05830198462170063, 0.05830198455895332, 0.058301984496547055, 0.05830198443447998, 0.05830198437275024, 0.05830198431135602, 0.058301984250295466, 0.05830198418956681, 0.0583019841291682, 0.05830198406909786, 0.05830198400935402, 0.05830198394993489, 0.05830198389083871, 0.05830198383206373, 0.058301983773608186, 0.05830198371547037, 0.058301983657648535, 0.05830198360014096, 0.058301983542945954, 0.058301983486061804, 0.05830198342948683, 0.058301983373219346, 0.05830198331725767, 0.058301983261600174, 0.05830198320624517, 0.05830198315119103, 0.05830198309643611, 0.0583019830419788, 0.058301982987817455, 0.058301982933950496, 0.05830198288037631, 0.05830198282709329, 0.0583019827740999, 0.05830198272139451, 0.05830198266897558, 0.05830198261684156, 0.05830198256499089, 0.05830198251342204, 0.05830198246213347, 0.058301982411123665]\n"
     ]
    }
   ],
   "source": [
    "print(d['J_history'])"
   ]
  },
  {
   "cell_type": "code",
   "execution_count": null,
   "metadata": {},
   "outputs": [],
   "source": []
  }
 ],
 "metadata": {
  "kernelspec": {
   "display_name": "Python 3",
   "language": "python",
   "name": "python3"
  },
  "language_info": {
   "codemirror_mode": {
    "name": "ipython",
    "version": 3
   },
   "file_extension": ".py",
   "mimetype": "text/x-python",
   "name": "python",
   "nbconvert_exporter": "python",
   "pygments_lexer": "ipython3",
   "version": "3.7.3"
  }
 },
 "nbformat": 4,
 "nbformat_minor": 2
}
